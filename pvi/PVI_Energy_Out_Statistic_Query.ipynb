{
 "cells": [
  {
   "cell_type": "markdown",
   "metadata": {},
   "source": [
    "# PVI Energy Out Statistic Query"
   ]
  },
  {
   "cell_type": "markdown",
   "metadata": {},
   "source": [
    "#### setup Django environment"
   ]
  },
  {
   "cell_type": "code",
   "execution_count": 1,
   "metadata": {
    "collapsed": false
   },
   "outputs": [
    {
     "name": "stdout",
     "output_type": "stream",
     "text": [
      "D:\\lee_shiueh\\FLH\\workspace\\pvstation\\pvappengine\n"
     ]
    }
   ],
   "source": [
    "import os, sys, django\n",
    "print(os.path.dirname(os.getcwd()))\n",
    "sys.path.append(os.path.dirname(os.getcwd()))\n",
    "os.environ['DJANGO_SETTINGS_MODULE'] = 'pvappengine.settings'\n",
    "django.setup()"
   ]
  },
  {
   "cell_type": "code",
   "execution_count": 2,
   "metadata": {
    "collapsed": true
   },
   "outputs": [],
   "source": [
    "from pvi.models import RegData"
   ]
  },
  {
   "cell_type": "markdown",
   "metadata": {},
   "source": [
    "#### PVI Energy Out Hourly Query for query_date"
   ]
  },
  {
   "cell_type": "code",
   "execution_count": 5,
   "metadata": {
    "collapsed": false
   },
   "outputs": [
    {
     "name": "stdout",
     "output_type": "stream",
     "text": [
      "query_date 2015-12-27\n",
      "SELECT \"pvi_regdata\".\"prob_date\", \"pvi_regdata\".\"prob_hour\", MAX(\"pvi_regdata\".\"value\") AS \"value__max\" FROM \"pvi_regdata\" WHERE \"pvi_regdata\".\"address\" = 1072 GROUP BY \"pvi_regdata\".\"prob_date\", \"pvi_regdata\".\"prob_hour\" ORDER BY \"pvi_regdata\".\"prob_hour\" ASC\n",
      "<class 'datetime.date'> (2015-12-22,0,439),\n",
      "<class 'datetime.date'> (2015-12-23,0,0),\n",
      "<class 'datetime.date'> (2015-12-24,0,1075),\n",
      "<class 'datetime.date'> (2015-12-23,1,0),\n",
      "<class 'datetime.date'> (2015-12-24,1,0),\n",
      "<class 'datetime.date'> (2015-12-25,1,0),\n",
      "<class 'datetime.date'> (2015-12-26,1,0),\n",
      "<class 'datetime.date'> (2015-12-27,1,0),\n",
      "<class 'datetime.date'> (2015-12-28,1,0),\n",
      "<class 'datetime.date'> (2015-12-23,2,0),\n",
      "<class 'datetime.date'> (2015-12-24,2,0),\n",
      "<class 'datetime.date'> (2015-12-25,2,0),\n",
      "<class 'datetime.date'> (2015-12-26,2,0),\n",
      "<class 'datetime.date'> (2015-12-27,2,0),\n",
      "<class 'datetime.date'> (2015-12-28,2,0),\n",
      "<class 'datetime.date'> (2015-12-23,3,0),\n",
      "<class 'datetime.date'> (2015-12-24,3,0),\n",
      "<class 'datetime.date'> (2015-12-25,3,0),\n",
      "<class 'datetime.date'> (2015-12-26,3,0),\n",
      "<class 'datetime.date'> (2015-12-27,3,0),\n",
      "<class 'datetime.date'> (2015-12-28,3,0),\n",
      "<class 'datetime.date'> (2015-12-23,4,0),\n",
      "<class 'datetime.date'> (2015-12-24,4,0),\n",
      "<class 'datetime.date'> (2015-12-25,4,0),\n",
      "<class 'datetime.date'> (2015-12-26,4,0),\n",
      "<class 'datetime.date'> (2015-12-27,4,0),\n",
      "<class 'datetime.date'> (2015-12-28,4,0),\n",
      "<class 'datetime.date'> (2015-12-23,5,0),\n",
      "<class 'datetime.date'> (2015-12-24,5,0),\n",
      "<class 'datetime.date'> (2015-12-25,5,0),\n",
      "<class 'datetime.date'> (2015-12-26,5,0),\n",
      "<class 'datetime.date'> (2015-12-27,5,0),\n",
      "<class 'datetime.date'> (2015-12-28,5,0),\n",
      "<class 'datetime.date'> (2015-12-23,6,0),\n",
      "<class 'datetime.date'> (2015-12-24,6,0),\n",
      "<class 'datetime.date'> (2015-12-25,6,0),\n",
      "<class 'datetime.date'> (2015-12-26,6,0),\n",
      "<class 'datetime.date'> (2015-12-27,6,0),\n",
      "<class 'datetime.date'> (2015-12-28,6,0),\n",
      "<class 'datetime.date'> (2015-12-21,7,1),\n",
      "<class 'datetime.date'> (2015-12-22,7,10),\n",
      "<class 'datetime.date'> (2015-12-23,7,2),\n",
      "<class 'datetime.date'> (2015-12-24,7,0),\n",
      "<class 'datetime.date'> (2015-12-25,7,2),\n",
      "<class 'datetime.date'> (2015-12-26,7,2),\n",
      "<class 'datetime.date'> (2015-12-27,7,0),\n",
      "<class 'datetime.date'> (2015-12-28,7,0),\n",
      "<class 'datetime.date'> (2015-12-21,8,18),\n",
      "<class 'datetime.date'> (2015-12-22,8,62),\n",
      "<class 'datetime.date'> (2015-12-23,8,17),\n",
      "<class 'datetime.date'> (2015-12-24,8,1),\n",
      "<class 'datetime.date'> (2015-12-25,8,12),\n",
      "<class 'datetime.date'> (2015-12-26,8,23),\n",
      "<class 'datetime.date'> (2015-12-27,8,10),\n",
      "<class 'datetime.date'> (2015-12-28,8,0),\n",
      "<class 'datetime.date'> (2015-12-21,9,52),\n",
      "<class 'datetime.date'> (2015-12-22,9,108),\n",
      "<class 'datetime.date'> (2015-12-23,9,111),\n",
      "<class 'datetime.date'> (2015-12-24,9,30),\n",
      "<class 'datetime.date'> (2015-12-25,9,52),\n",
      "<class 'datetime.date'> (2015-12-26,9,63),\n",
      "<class 'datetime.date'> (2015-12-27,9,51),\n",
      "<class 'datetime.date'> (2015-12-28,9,14),\n",
      "<class 'datetime.date'> (2015-12-21,10,116),\n",
      "<class 'datetime.date'> (2015-12-22,10,284),\n",
      "<class 'datetime.date'> (2015-12-23,10,273),\n",
      "<class 'datetime.date'> (2015-12-24,10,132),\n",
      "<class 'datetime.date'> (2015-12-25,10,87),\n",
      "<class 'datetime.date'> (2015-12-26,10,110),\n",
      "<class 'datetime.date'> (2015-12-27,10,96),\n",
      "<class 'datetime.date'> (2015-12-28,10,21),\n",
      "<class 'datetime.date'> (2015-12-21,11,175),\n",
      "<class 'datetime.date'> (2015-12-22,11,566),\n",
      "<class 'datetime.date'> (2015-12-23,11,560),\n",
      "<class 'datetime.date'> (2015-12-24,11,282),\n",
      "<class 'datetime.date'> (2015-12-25,11,128),\n",
      "<class 'datetime.date'> (2015-12-26,11,209),\n",
      "<class 'datetime.date'> (2015-12-27,11,142),\n",
      "<class 'datetime.date'> (2015-12-28,11,27),\n",
      "<class 'datetime.date'> (2015-12-21,12,249),\n",
      "<class 'datetime.date'> (2015-12-22,12,902),\n",
      "<class 'datetime.date'> (2015-12-23,12,819),\n",
      "<class 'datetime.date'> (2015-12-24,12,350),\n",
      "<class 'datetime.date'> (2015-12-25,12,162),\n",
      "<class 'datetime.date'> (2015-12-26,12,292),\n",
      "<class 'datetime.date'> (2015-12-27,12,192),\n",
      "<class 'datetime.date'> (2015-12-28,12,42),\n",
      "<class 'datetime.date'> (2015-12-21,13,335),\n",
      "<class 'datetime.date'> (2015-12-22,13,1210),\n",
      "<class 'datetime.date'> (2015-12-23,13,967),\n",
      "<class 'datetime.date'> (2015-12-24,13,374),\n",
      "<class 'datetime.date'> (2015-12-25,13,190),\n",
      "<class 'datetime.date'> (2015-12-26,13,334),\n",
      "<class 'datetime.date'> (2015-12-27,13,202),\n",
      "<class 'datetime.date'> (2015-12-28,13,66),\n",
      "<class 'datetime.date'> (2015-12-21,14,396),\n",
      "<class 'datetime.date'> (2015-12-22,14,1418),\n",
      "<class 'datetime.date'> (2015-12-23,14,1026),\n",
      "<class 'datetime.date'> (2015-12-24,14,393),\n",
      "<class 'datetime.date'> (2015-12-25,14,233),\n",
      "<class 'datetime.date'> (2015-12-26,14,359),\n",
      "<class 'datetime.date'> (2015-12-27,14,213),\n",
      "<class 'datetime.date'> (2015-12-28,14,76),\n",
      "<class 'datetime.date'> (2015-12-21,15,428),\n",
      "<class 'datetime.date'> (2015-12-22,15,1435),\n",
      "<class 'datetime.date'> (2015-12-23,15,1063),\n",
      "<class 'datetime.date'> (2015-12-24,15,398),\n",
      "<class 'datetime.date'> (2015-12-25,15,258),\n",
      "<class 'datetime.date'> (2015-12-26,15,366),\n",
      "<class 'datetime.date'> (2015-12-27,15,215),\n",
      "<class 'datetime.date'> (2015-12-28,15,83),\n",
      "<class 'datetime.date'> (2015-12-21,16,439),\n",
      "<class 'datetime.date'> (2015-12-22,16,1437),\n",
      "<class 'datetime.date'> (2015-12-23,16,1075),\n",
      "<class 'datetime.date'> (2015-12-24,16,398),\n",
      "<class 'datetime.date'> (2015-12-25,16,265),\n",
      "<class 'datetime.date'> (2015-12-26,16,367),\n",
      "<class 'datetime.date'> (2015-12-27,16,215),\n",
      "<class 'datetime.date'> (2015-12-28,16,83),\n",
      "<class 'datetime.date'> (2015-12-21,17,439),\n",
      "<class 'datetime.date'> (2015-12-22,17,1437),\n",
      "<class 'datetime.date'> (2015-12-23,17,1075),\n",
      "<class 'datetime.date'> (2015-12-24,17,398),\n",
      "<class 'datetime.date'> (2015-12-25,17,265),\n",
      "<class 'datetime.date'> (2015-12-26,17,367),\n",
      "<class 'datetime.date'> (2015-12-27,17,215),\n",
      "<class 'datetime.date'> (2015-12-28,17,83),\n",
      "<class 'datetime.date'> (2015-12-21,18,439),\n",
      "<class 'datetime.date'> (2015-12-22,18,1437),\n",
      "<class 'datetime.date'> (2015-12-23,18,1075),\n",
      "<class 'datetime.date'> (2015-12-24,18,398),\n",
      "<class 'datetime.date'> (2015-12-25,18,265),\n",
      "<class 'datetime.date'> (2015-12-26,18,367),\n",
      "<class 'datetime.date'> (2015-12-27,18,215),\n",
      "<class 'datetime.date'> (2015-12-21,19,439),\n",
      "<class 'datetime.date'> (2015-12-22,19,1437),\n",
      "<class 'datetime.date'> (2015-12-23,19,1075),\n",
      "<class 'datetime.date'> (2015-12-24,19,398),\n",
      "<class 'datetime.date'> (2015-12-25,19,265),\n",
      "<class 'datetime.date'> (2015-12-26,19,367),\n",
      "<class 'datetime.date'> (2015-12-27,19,215),\n",
      "<class 'datetime.date'> (2015-12-21,20,439),\n",
      "<class 'datetime.date'> (2015-12-22,20,1437),\n",
      "<class 'datetime.date'> (2015-12-23,20,1075),\n",
      "<class 'datetime.date'> (2015-12-24,20,398),\n",
      "<class 'datetime.date'> (2015-12-25,20,265),\n",
      "<class 'datetime.date'> (2015-12-26,20,367),\n",
      "<class 'datetime.date'> (2015-12-27,20,215),\n",
      "<class 'datetime.date'> (2015-12-21,21,439),\n",
      "<class 'datetime.date'> (2015-12-22,21,1437),\n",
      "<class 'datetime.date'> (2015-12-23,21,1075),\n",
      "<class 'datetime.date'> (2015-12-24,21,398),\n",
      "<class 'datetime.date'> (2015-12-25,21,265),\n",
      "<class 'datetime.date'> (2015-12-26,21,367),\n",
      "<class 'datetime.date'> (2015-12-27,21,215),\n",
      "<class 'datetime.date'> (2015-12-21,22,439),\n",
      "<class 'datetime.date'> (2015-12-22,22,1437),\n",
      "<class 'datetime.date'> (2015-12-23,22,1075),\n",
      "<class 'datetime.date'> (2015-12-24,22,398),\n",
      "<class 'datetime.date'> (2015-12-25,22,265),\n",
      "<class 'datetime.date'> (2015-12-26,22,367),\n",
      "<class 'datetime.date'> (2015-12-27,22,215),\n",
      "<class 'datetime.date'> (2015-12-21,23,439),\n",
      "<class 'datetime.date'> (2015-12-22,23,1437),\n",
      "<class 'datetime.date'> (2015-12-23,23,1075),\n"
     ]
    }
   ],
   "source": [
    "from datetime import date, timedelta\n",
    "from django.db.models import Max\n",
    "query_date = date(2015,12,27) #date.today() # + timedelta(days=-2)\n",
    "print('query_date',query_date)\n",
    "queryset = RegData.objects.filter(address=1072).values('prob_date', 'prob_hour').annotate(Max('value')).order_by('prob_hour')\n",
    "print(queryset.query)\n",
    "info = ''\n",
    "for entry in queryset:\n",
    "    print( type(entry['prob_date']), '(%s,%s,%s),' % (entry['prob_date'], entry['prob_hour'], entry['value__max']))\n",
    "#print(info)"
   ]
  },
  {
   "cell_type": "code",
   "execution_count": 9,
   "metadata": {
    "collapsed": false
   },
   "outputs": [
    {
     "name": "stdout",
     "output_type": "stream",
     "text": [
      "SELECT \"pvi_regdata\".\"prob_date\", \"pvi_regdata\".\"prob_hour\", MAX(\"pvi_regdata\".\"value\") AS \"value__max\" FROM \"pvi_regdata\" WHERE \"pvi_regdata\".\"address\" = 1072 GROUP BY \"pvi_regdata\".\"prob_date\", \"pvi_regdata\".\"prob_hour\" ORDER BY \"pvi_regdata\".\"prob_date\" ASC, \"pvi_regdata\".\"prob_hour\" ASC\n",
      "(2015-12-21,7,1),\n",
      "(2015-12-21,8,18),\n",
      "(2015-12-21,9,52),\n",
      "(2015-12-21,10,116),\n",
      "(2015-12-21,11,175),\n",
      "(2015-12-21,12,249),\n",
      "(2015-12-21,13,335),\n",
      "(2015-12-21,14,396),\n",
      "(2015-12-21,15,428),\n",
      "(2015-12-21,16,439),\n",
      "(2015-12-21,17,439),\n",
      "(2015-12-21,18,439),\n",
      "(2015-12-21,19,439),\n",
      "(2015-12-21,20,439),\n",
      "(2015-12-21,21,439),\n",
      "(2015-12-21,22,439),\n",
      "(2015-12-21,23,439),\n",
      "(2015-12-22,0,439),\n",
      "(2015-12-22,7,10),\n",
      "(2015-12-22,8,62),\n",
      "(2015-12-22,9,108),\n",
      "(2015-12-22,10,284),\n",
      "(2015-12-22,11,566),\n",
      "(2015-12-22,12,902),\n",
      "(2015-12-22,13,1210),\n",
      "(2015-12-22,14,1418),\n",
      "(2015-12-22,15,1435),\n",
      "(2015-12-22,16,1437),\n",
      "(2015-12-22,17,1437),\n",
      "(2015-12-22,18,1437),\n",
      "(2015-12-22,19,1437),\n",
      "(2015-12-22,20,1437),\n",
      "(2015-12-22,21,1437),\n",
      "(2015-12-22,22,1437),\n",
      "(2015-12-22,23,1437),\n",
      "(2015-12-23,0,0),\n",
      "(2015-12-23,1,0),\n",
      "(2015-12-23,2,0),\n",
      "(2015-12-23,3,0),\n",
      "(2015-12-23,4,0),\n",
      "(2015-12-23,5,0),\n",
      "(2015-12-23,6,0),\n",
      "(2015-12-23,7,2),\n",
      "(2015-12-23,8,17),\n",
      "(2015-12-23,9,111),\n",
      "(2015-12-23,10,273),\n",
      "(2015-12-23,11,560),\n",
      "(2015-12-23,12,819),\n",
      "(2015-12-23,13,967),\n",
      "(2015-12-23,14,1026),\n",
      "(2015-12-23,15,1063),\n",
      "(2015-12-23,16,1075),\n",
      "(2015-12-23,17,1075),\n",
      "(2015-12-23,18,1075),\n",
      "(2015-12-23,19,1075),\n",
      "(2015-12-23,20,1075),\n",
      "(2015-12-23,21,1075),\n",
      "(2015-12-23,22,1075),\n",
      "(2015-12-23,23,1075),\n",
      "(2015-12-24,0,1075),\n",
      "(2015-12-24,1,0),\n",
      "(2015-12-24,2,0),\n",
      "(2015-12-24,3,0),\n",
      "(2015-12-24,4,0),\n",
      "(2015-12-24,5,0),\n",
      "(2015-12-24,6,0),\n",
      "(2015-12-24,7,0),\n",
      "(2015-12-24,8,1),\n",
      "(2015-12-24,9,30),\n",
      "(2015-12-24,10,132),\n",
      "(2015-12-24,11,282),\n",
      "(2015-12-24,12,350),\n",
      "(2015-12-24,13,374),\n",
      "(2015-12-24,14,393),\n",
      "(2015-12-24,15,398),\n",
      "(2015-12-24,16,398),\n",
      "(2015-12-24,17,398),\n",
      "(2015-12-24,18,398),\n",
      "(2015-12-24,19,398),\n",
      "(2015-12-24,20,398),\n",
      "(2015-12-24,21,398),\n",
      "(2015-12-24,22,398),\n",
      "(2015-12-25,1,0),\n",
      "(2015-12-25,2,0),\n",
      "(2015-12-25,3,0),\n",
      "(2015-12-25,4,0),\n",
      "(2015-12-25,5,0),\n",
      "(2015-12-25,6,0),\n",
      "(2015-12-25,7,2),\n",
      "(2015-12-25,8,12),\n",
      "(2015-12-25,9,52),\n",
      "(2015-12-25,10,87),\n",
      "(2015-12-25,11,128),\n",
      "(2015-12-25,12,162),\n",
      "(2015-12-25,13,190),\n",
      "(2015-12-25,14,233),\n",
      "(2015-12-25,15,258),\n",
      "(2015-12-25,16,265),\n",
      "(2015-12-25,17,265),\n",
      "(2015-12-25,18,265),\n",
      "(2015-12-25,19,265),\n",
      "(2015-12-25,20,265),\n",
      "(2015-12-25,21,265),\n",
      "(2015-12-25,22,265),\n",
      "(2015-12-26,1,0),\n",
      "(2015-12-26,2,0),\n",
      "(2015-12-26,3,0),\n",
      "(2015-12-26,4,0),\n",
      "(2015-12-26,5,0),\n",
      "(2015-12-26,6,0),\n",
      "(2015-12-26,7,2),\n",
      "(2015-12-26,8,23),\n",
      "(2015-12-26,9,63),\n",
      "(2015-12-26,10,110),\n",
      "(2015-12-26,11,209),\n",
      "(2015-12-26,12,292),\n",
      "(2015-12-26,13,334),\n",
      "(2015-12-26,14,359),\n",
      "(2015-12-26,15,366),\n",
      "(2015-12-26,16,367),\n",
      "(2015-12-26,17,367),\n",
      "(2015-12-26,18,367),\n",
      "(2015-12-26,19,367),\n",
      "(2015-12-26,20,367),\n",
      "(2015-12-26,21,367),\n",
      "(2015-12-26,22,367),\n",
      "(2015-12-27,1,0),\n",
      "(2015-12-27,2,0),\n",
      "(2015-12-27,3,0),\n",
      "(2015-12-27,4,0),\n",
      "(2015-12-27,5,0),\n",
      "(2015-12-27,6,0),\n",
      "(2015-12-27,7,0),\n",
      "(2015-12-27,8,10),\n",
      "(2015-12-27,9,51),\n",
      "(2015-12-27,10,96),\n",
      "(2015-12-27,11,142),\n",
      "(2015-12-27,12,192),\n",
      "(2015-12-27,13,202),\n",
      "(2015-12-27,14,213),\n",
      "(2015-12-27,15,215),\n",
      "(2015-12-27,16,215),\n",
      "(2015-12-27,17,215),\n",
      "(2015-12-27,18,215),\n",
      "(2015-12-27,19,215),\n",
      "(2015-12-27,20,215),\n",
      "(2015-12-27,21,215),\n",
      "(2015-12-27,22,215),\n",
      "(2015-12-28,1,0),\n",
      "(2015-12-28,2,0),\n",
      "(2015-12-28,3,0),\n",
      "(2015-12-28,4,0),\n",
      "(2015-12-28,5,0),\n",
      "(2015-12-28,6,0),\n",
      "(2015-12-28,7,0),\n",
      "(2015-12-28,8,0),\n",
      "(2015-12-28,9,14),\n",
      "(2015-12-28,10,21),\n",
      "(2015-12-28,11,27),\n",
      "(2015-12-28,12,42),\n",
      "(2015-12-28,13,66),\n",
      "(2015-12-28,14,76),\n",
      "(2015-12-28,15,83),\n",
      "(2015-12-28,16,83),\n",
      "(2015-12-28,17,83),\n"
     ]
    }
   ],
   "source": [
    "queryset = RegData.objects.filter(address=1072).values('prob_date','prob_hour').annotate(Max('value')).order_by('prob_date','prob_hour')\n",
    "print(queryset.query)\n",
    "for entry in queryset:\n",
    "    print('(%s,%s,%s),' % (str(entry['prob_date']),str(entry['prob_hour']),str(entry['value__max'])))\n"
   ]
  },
  {
   "cell_type": "markdown",
   "metadata": {},
   "source": [
    "#### PVI Energy Out Daily Query"
   ]
  },
  {
   "cell_type": "code",
   "execution_count": 5,
   "metadata": {
    "collapsed": false
   },
   "outputs": [
    {
     "name": "stdout",
     "output_type": "stream",
     "text": [
      "SELECT \"pvi_regdata\".\"prob_date\", MAX(\"pvi_regdata\".\"value\") AS \"value__max\" FROM \"pvi_regdata\" WHERE \"pvi_regdata\".\"address\" = 1072 GROUP BY \"pvi_regdata\".\"prob_date\" ORDER BY \"pvi_regdata\".\"prob_date\" ASC\n"
     ]
    }
   ],
   "source": [
    "queryset = RegData.objects.filter(address=1072).values('prob_date').annotate(Max('value')).order_by('prob_date')\n",
    "print(queryset.query)"
   ]
  },
  {
   "cell_type": "code",
   "execution_count": 6,
   "metadata": {
    "collapsed": false
   },
   "outputs": [
    {
     "data": {
      "text/plain": [
       "[{'prob_date': datetime.date(2015, 12, 21), 'value__max': 439}, {'prob_date': datetime.date(2015, 12, 22), 'value__max': 1437}, {'prob_date': datetime.date(2015, 12, 23), 'value__max': 1075}, {'prob_date': datetime.date(2015, 12, 24), 'value__max': 1075}, {'prob_date': datetime.date(2015, 12, 25), 'value__max': 265}, {'prob_date': datetime.date(2015, 12, 26), 'value__max': 367}, {'prob_date': datetime.date(2015, 12, 27), 'value__max': 215}, {'prob_date': datetime.date(2015, 12, 28), 'value__max': 83}]"
      ]
     },
     "execution_count": 6,
     "metadata": {},
     "output_type": "execute_result"
    }
   ],
   "source": [
    "queryset"
   ]
  },
  {
   "cell_type": "code",
   "execution_count": null,
   "metadata": {
    "collapsed": false
   },
   "outputs": [],
   "source": [
    "info = ''\n",
    "for entry in queryset:\n",
    "    info += '(' + str(entry['prob_date']) + ',' + str(entry['value__max']) + '),'\n",
    "print(info)"
   ]
  },
  {
   "cell_type": "code",
   "execution_count": null,
   "metadata": {
    "collapsed": true
   },
   "outputs": [],
   "source": []
  }
 ],
 "metadata": {
  "kernelspec": {
   "display_name": "Python 3",
   "language": "python",
   "name": "python3"
  },
  "language_info": {
   "codemirror_mode": {
    "name": "ipython",
    "version": 3
   },
   "file_extension": ".py",
   "mimetype": "text/x-python",
   "name": "python",
   "nbconvert_exporter": "python",
   "pygments_lexer": "ipython3",
   "version": "3.5.1"
  }
 },
 "nbformat": 4,
 "nbformat_minor": 0
}
