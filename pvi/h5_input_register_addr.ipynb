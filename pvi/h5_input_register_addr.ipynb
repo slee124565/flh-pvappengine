{
 "cells": [
  {
   "cell_type": "markdown",
   "metadata": {},
   "source": [
    "# Convert File h5_input_register_addr to JSON File pvi_addr_h5"
   ]
  },
  {
   "cell_type": "markdown",
   "metadata": {},
   "source": [
    "#### Covert File Content to Python Dict"
   ]
  },
  {
   "cell_type": "code",
   "execution_count": 2,
   "metadata": {
    "collapsed": false
   },
   "outputs": [
    {
     "name": "stdout",
     "output_type": "stream",
     "text": [
      "['1096', 'Event (index+7)', 1]\n",
      "['1056', 'Measurement Index', 1]\n",
      "['1037', 'RTC_Minute', 1]\n",
      "['1049', 'Reconnected Time', 1]\n",
      "['1091', 'Event (index+2)', 1]\n",
      "['1038', 'RTC_Second', 1]\n",
      "['1164', 'Delta 5K:Adins_adc', 1]\n",
      "['1058', 'Current', 1]\n",
      "['1033', 'RTC_Year', 1]\n",
      "['1059', 'Wattage', 1]\n",
      "['53252', 'AC Life Wh', 2]\n",
      "['1153', 'Delta 5k:Max BoostHs Temp', 1]\n",
      "['40978', 'Serial number 6,7', 1]\n",
      "['1060', 'Frequency', 1]\n",
      "['1071', 'Adc Redundant Voltage', 1]\n",
      "['1074', 'Today Runtime', 2]\n",
      "['40975', 'Serial number 0,1', 1]\n",
      "['1032', 'Inverter ID', 1]\n",
      "['1093', 'Event (index+4)', 1]\n",
      "['1034', 'RTC_Month', 1]\n",
      "['53254', 'AC Life Runtime', 2]\n",
      "['40979', 'Serial number 8,9', 1]\n",
      "['1062', 'Redundant Voltage', 1]\n",
      "['1045', 'FW3 Date', 1]\n",
      "['1163', 'Delta 5K:Solar 1 RLeakageAvg', 1]\n",
      "['1160', 'Delta 5K:Solar 1 RLeakage1', 1]\n",
      "['1041', 'FW1 Date', 1]\n",
      "['1078', 'DC Life Runtime', 2]\n",
      "['1092', 'Event (index+3)', 1]\n",
      "['1162', 'Delta 5K:Solar 1 RLeakage3', 1]\n",
      "['1069', 'Adc Current', 1]\n",
      "['1080', 'Delta 5k: Amb Temp', 1]\n",
      "['1082', 'Delta5k: InvHs Temp', 1]\n",
      "['1047', 'FW4 Date', 1]\n",
      "['1088', 'Event Index', 1]\n",
      "['1035', 'RTC_Day', 1]\n",
      "['1090', 'Event (index+1)', 1]\n",
      "['1057', 'Voltage', 1]\n",
      "['1072', 'Today Wh', 2]\n",
      "['1154', 'Delta 5k:Max InvHs Temp', 1]\n",
      "['1097', 'Event (index+8)', 1]\n",
      "['1098', 'Event (index+9)', 1]\n",
      "['40980', 'Serial number 10,11', 1]\n",
      "['1068', 'Adc Voltage', 1]\n",
      "['1152', 'Delta 5k:Max Amb Temp', 1]\n",
      "['1089', 'Event (index+0)', 1]\n",
      "['1036', 'RTC_Hour', 1]\n",
      "['1095', 'Event (index+6)', 1]\n",
      "['1042', 'FW2 Revision', 1]\n",
      "['1043', 'FW2 Date', 1]\n",
      "['1040', 'FW1 Revision', 1]\n",
      "['1046', 'FW4 Revision', 1]\n",
      "['40977', 'Serial number 4,5', 1]\n",
      "['1094', 'Event (index+5)', 1]\n",
      "['1161', 'Delta 5K:Solar 1 RLeakage2', 1]\n",
      "['1063', 'Redundant Frequency', 1]\n",
      "['40976', 'Serial number 2,3', 1]\n",
      "['1076', 'DC Life Wh', 2]\n",
      "['1044', 'FW3 Revision', 1]\n",
      "['1081', 'Delta 5k: BoostHs Temp', 1]\n",
      "['1061', 'Percentage', 1]\n",
      "['1070', 'Adc Wattage', 1]\n",
      "['1048', 'Inverter Status', 1]\n"
     ]
    }
   ],
   "source": [
    "reg_map = {}\n",
    "with open('h5_input_register_addr','r') as fh:\n",
    "    for line in fh:\n",
    "        entry = line.split(maxsplit=1)\n",
    "            addr = entry[0].strip()\n",
    "            text = entry[1].strip()\n",
    "            reg_map[text] = [addr,text,1]\n",
    "            key_prev = text\n",
    "        else:\n",
    "            reg_map[key_prev][2] = 2\n",
    "for key in reg_map.keys():\n",
    "    print(reg_map[key])"
   ]
  },
  {
   "cell_type": "markdown",
   "metadata": {},
   "source": [
    "#### Convert Dict to JSON "
   ]
  },
  {
   "cell_type": "code",
   "execution_count": 12,
   "metadata": {
    "collapsed": false
   },
   "outputs": [
    {
     "data": {
      "text/plain": [
       "'{\"Event (index+7)\": [\"1096\", \"Event (index+7)\", 1], \"Measurement Index\": [\"1056\", \"Measurement Index\", 1], \"RTC_Minute\": [\"1037\", \"RTC_Minute\", 1], \"Reconnected Time\": [\"1049\", \"Reconnected Time\", 1], \"Event (index+2)\": [\"1091\", \"Event (index+2)\", 1], \"RTC_Second\": [\"1038\", \"RTC_Second\", 1], \"Delta 5K:Adins_adc\": [\"1164\", \"Delta 5K:Adins_adc\", 1], \"Current\": [\"1058\", \"Current\", 1], \"RTC_Year\": [\"1033\", \"RTC_Year\", 1], \"Wattage\": [\"1059\", \"Wattage\", 1], \"AC Life Wh\": [\"53252\", \"AC Life Wh\", 2], \"Delta 5k:Max BoostHs Temp\": [\"1153\", \"Delta 5k:Max BoostHs Temp\", 1], \"Serial number 6,7\": [\"40978\", \"Serial number 6,7\", 1], \"Frequency\": [\"1060\", \"Frequency\", 1], \"Adc Redundant Voltage\": [\"1071\", \"Adc Redundant Voltage\", 1], \"Today Runtime\": [\"1074\", \"Today Runtime\", 2], \"Serial number 0,1\": [\"40975\", \"Serial number 0,1\", 1], \"Inverter ID\": [\"1032\", \"Inverter ID\", 1], \"Event (index+4)\": [\"1093\", \"Event (index+4)\", 1], \"RTC_Month\": [\"1034\", \"RTC_Month\", 1], \"AC Life Runtime\": [\"53254\", \"AC Life Runtime\", 2], \"Serial number 8,9\": [\"40979\", \"Serial number 8,9\", 1], \"Redundant Voltage\": [\"1062\", \"Redundant Voltage\", 1], \"FW3 Date\": [\"1045\", \"FW3 Date\", 1], \"Delta 5K:Solar 1 RLeakageAvg\": [\"1163\", \"Delta 5K:Solar 1 RLeakageAvg\", 1], \"Delta 5K:Solar 1 RLeakage1\": [\"1160\", \"Delta 5K:Solar 1 RLeakage1\", 1], \"FW1 Date\": [\"1041\", \"FW1 Date\", 1], \"DC Life Runtime\": [\"1078\", \"DC Life Runtime\", 2], \"Event (index+3)\": [\"1092\", \"Event (index+3)\", 1], \"Delta 5K:Solar 1 RLeakage3\": [\"1162\", \"Delta 5K:Solar 1 RLeakage3\", 1], \"Adc Current\": [\"1069\", \"Adc Current\", 1], \"Delta 5k: Amb Temp\": [\"1080\", \"Delta 5k: Amb Temp\", 1], \"Delta5k: InvHs Temp\": [\"1082\", \"Delta5k: InvHs Temp\", 1], \"FW4 Date\": [\"1047\", \"FW4 Date\", 1], \"Event Index\": [\"1088\", \"Event Index\", 1], \"RTC_Day\": [\"1035\", \"RTC_Day\", 1], \"Event (index+1)\": [\"1090\", \"Event (index+1)\", 1], \"Voltage\": [\"1057\", \"Voltage\", 1], \"Today Wh\": [\"1072\", \"Today Wh\", 2], \"Delta 5k:Max InvHs Temp\": [\"1154\", \"Delta 5k:Max InvHs Temp\", 1], \"Event (index+8)\": [\"1097\", \"Event (index+8)\", 1], \"Event (index+9)\": [\"1098\", \"Event (index+9)\", 1], \"Serial number 10,11\": [\"40980\", \"Serial number 10,11\", 1], \"Adc Voltage\": [\"1068\", \"Adc Voltage\", 1], \"Delta 5k:Max Amb Temp\": [\"1152\", \"Delta 5k:Max Amb Temp\", 1], \"Event (index+0)\": [\"1089\", \"Event (index+0)\", 1], \"RTC_Hour\": [\"1036\", \"RTC_Hour\", 1], \"Event (index+6)\": [\"1095\", \"Event (index+6)\", 1], \"FW2 Revision\": [\"1042\", \"FW2 Revision\", 1], \"FW2 Date\": [\"1043\", \"FW2 Date\", 1], \"FW1 Revision\": [\"1040\", \"FW1 Revision\", 1], \"FW4 Revision\": [\"1046\", \"FW4 Revision\", 1], \"Serial number 4,5\": [\"40977\", \"Serial number 4,5\", 1], \"Event (index+5)\": [\"1094\", \"Event (index+5)\", 1], \"Delta 5K:Solar 1 RLeakage2\": [\"1161\", \"Delta 5K:Solar 1 RLeakage2\", 1], \"Redundant Frequency\": [\"1063\", \"Redundant Frequency\", 1], \"Serial number 2,3\": [\"40976\", \"Serial number 2,3\", 1], \"DC Life Wh\": [\"1076\", \"DC Life Wh\", 2], \"FW3 Revision\": [\"1044\", \"FW3 Revision\", 1], \"Delta 5k: BoostHs Temp\": [\"1081\", \"Delta 5k: BoostHs Temp\", 1], \"Percentage\": [\"1061\", \"Percentage\", 1], \"Adc Wattage\": [\"1070\", \"Adc Wattage\", 1], \"Inverter Status\": [\"1048\", \"Inverter Status\", 1]}'"
      ]
     },
     "execution_count": 12,
     "metadata": {},
     "output_type": "execute_result"
    }
   ],
   "source": [
    "import json\n",
    "json.dumps(reg_map)"
   ]
  },
  {
   "cell_type": "markdown",
   "metadata": {},
   "source": [
    "#### Write JSON to File"
   ]
  },
  {
   "cell_type": "code",
   "execution_count": 13,
   "metadata": {
    "collapsed": true
   },
   "outputs": [],
   "source": [
    "with open('pvi_addr_h5','w') as fh:\n",
    "    fh.write(json.dumps(reg_map))"
   ]
  },
  {
   "cell_type": "markdown",
   "metadata": {},
   "source": [
    "#### Test : Convert File Content to Python Dict Object"
   ]
  },
  {
   "cell_type": "code",
   "execution_count": 7,
   "metadata": {
    "collapsed": false,
    "scrolled": true
   },
   "outputs": [],
   "source": [
    "import json\n",
    "with open('pvi_addr_h5','r') as fh:\n",
    "    reg_map = json.load(fh)\n",
    "#print(reg_map)\n",
    "format_json = json.dumps(reg_map,indent=4)\n",
    "with open('pvi_addr_h5.py','w') as fh:\n",
    "    fh.write(format_json)\n"
   ]
  }
 ],
 "metadata": {
  "kernelspec": {
   "display_name": "Python 3",
   "language": "python",
   "name": "python3"
  },
  "language_info": {
   "codemirror_mode": {
    "name": "ipython",
    "version": 3
   },
   "file_extension": ".py",
   "mimetype": "text/x-python",
   "name": "python",
   "nbconvert_exporter": "python",
   "pygments_lexer": "ipython3",
   "version": "3.5.1"
  }
 },
 "nbformat": 4,
 "nbformat_minor": 0
}
