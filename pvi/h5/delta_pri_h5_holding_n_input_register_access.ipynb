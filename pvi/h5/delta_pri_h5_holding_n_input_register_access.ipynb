{
 "cells": [
  {
   "cell_type": "markdown",
   "metadata": {},
   "source": [
    "#### Setup Django Environment"
   ]
  },
  {
   "cell_type": "code",
   "execution_count": 1,
   "metadata": {
    "collapsed": true
   },
   "outputs": [],
   "source": [
    "import os, sys, django"
   ]
  },
  {
   "cell_type": "code",
   "execution_count": 2,
   "metadata": {
    "collapsed": true
   },
   "outputs": [],
   "source": [
    "os.environ['DJANGO_SETTINGS_MODULE'] = 'pvappengine.settings'"
   ]
  },
  {
   "cell_type": "code",
   "execution_count": 3,
   "metadata": {
    "collapsed": false
   },
   "outputs": [],
   "source": [
    "sys.path.append(os.path.dirname(os.path.dirname(os.getcwd())))"
   ]
  },
  {
   "cell_type": "code",
   "execution_count": 4,
   "metadata": {
    "collapsed": true
   },
   "outputs": [],
   "source": [
    "django.setup()"
   ]
  },
  {
   "cell_type": "markdown",
   "metadata": {},
   "source": [
    "#### setup H5 Input Register reading function"
   ]
  },
  {
   "cell_type": "code",
   "execution_count": 5,
   "metadata": {
    "collapsed": false
   },
   "outputs": [
    {
     "name": "stdout",
     "output_type": "stream",
     "text": [
      "2016-01-29 12:12:34,712 [INFO] pvi.h5.controller: pvs[0] meta: {'type': 'DELTA_PRI_H5', 'serial': {'port': '/dev/ttyUSB0', 'bytesize': 8, 'timeout': 0.1, 'stopbits': 1, 'parity': 'N', 'baudrate': 9600}, 'name': 'H5', 'modbus_id': 2}\n"
     ]
    }
   ],
   "source": [
    "import minimalmodbus\n",
    "from pvi.h5 import controller as h5_controller\n",
    "instr = minimalmodbus.Instrument('/dev/ttyUSB0',2)    \n",
    "instr.serial.baudrate = 9600    \n",
    "instr.serial.timeout = 0.1\n",
    "instr.debug=True"
   ]
  },
  {
   "cell_type": "code",
   "execution_count": 16,
   "metadata": {
    "collapsed": false
   },
   "outputs": [
    {
     "name": "stdout",
     "output_type": "stream",
     "text": [
      "\n",
      "MinimalModbus debug mode. Writing to instrument (expecting 7 bytes back): '\\x02\\x03\\x03\\x1f\\x00\\x01µ»' (02 03 03 1F 00 01 B5 BB)\n",
      "MinimalModbus debug mode. No sleep required before write. Time since previous read: 153315.1 ms, minimum silent period: 4.01 ms.\n",
      "MinimalModbus debug mode. Response from instrument: '\\x02\\x03\\x02\\x00\\x00üD' (02 03 02 00 00 FC 44) (7 bytes), roundtrip time: 18.0 ms. Timeout setting: 100.0 ms.\n",
      "\n"
     ]
    },
    {
     "data": {
      "text/plain": [
       "0"
      ]
     },
     "execution_count": 16,
     "metadata": {},
     "output_type": "execute_result"
    }
   ],
   "source": [
    "instr.read_register(800-1,functioncode=3)"
   ]
  },
  {
   "cell_type": "markdown",
   "metadata": {},
   "source": [
    "#### measurement index code\n",
    "0x00 U Grid <br>\n",
    "0x30 U dc1  (48) <br>\n",
    "0x31 U dc2 <br>"
   ]
  },
  {
   "cell_type": "code",
   "execution_count": 14,
   "metadata": {
    "collapsed": false
   },
   "outputs": [
    {
     "name": "stdout",
     "output_type": "stream",
     "text": [
      "\n",
      "MinimalModbus debug mode. Writing to instrument (expecting 8 bytes back): '\\x02\\x06\\x03\\x1f\\x000¸o' (02 06 03 1F 00 30 B8 6F)\n",
      "MinimalModbus debug mode. No sleep required before write. Time since previous read: 279849.1 ms, minimum silent period: 4.01 ms.\n",
      "MinimalModbus debug mode. Response from instrument: '\\x02\\x06\\x03\\x1f\\x000¸o' (02 06 03 1F 00 30 B8 6F) (8 bytes), roundtrip time: 20.4 ms. Timeout setting: 100.0 ms.\n",
      "\n"
     ]
    }
   ],
   "source": [
    "instr.write_register(800-1,0x30,functioncode=6)"
   ]
  },
  {
   "cell_type": "code",
   "execution_count": 8,
   "metadata": {
    "collapsed": false
   },
   "outputs": [
    {
     "name": "stdout",
     "output_type": "stream",
     "text": [
      "2016-01-29 12:16:41,432 [DEBUG] pvi.h5.controller: reading register: Inverter Status,1048,1\n",
      "\n",
      "MinimalModbus debug mode. Writing to instrument (expecting 7 bytes back): '\\x02\\x04\\x04\\x17\\x00\\x01\\x80Í' (02 04 04 17 00 01 80 CD)\n",
      "MinimalModbus debug mode. No sleep required before write. Time since previous read: 210363.1 ms, minimum silent period: 4.01 ms.\n",
      "MinimalModbus debug mode. Response from instrument: '\\x02\\x04\\x02\\x00\\x1b½;' (02 04 02 00 1B BD 3B) (7 bytes), roundtrip time: 19.5 ms. Timeout setting: 100.0 ms.\n",
      "\n",
      "2016-01-29 12:16:41,470 [DEBUG] pvi.h5.controller: 1st word value: 27\n",
      "2016-01-29 12:16:41,478 [DEBUG] pvi.h5.controller: reading register: Measurement Index,1056,1\n",
      "\n",
      "MinimalModbus debug mode. Writing to instrument (expecting 7 bytes back): '\\x02\\x04\\x04\\x1f\\x00\\x01\\x01\\x0f' (02 04 04 1F 00 01 01 0F)\n",
      "MinimalModbus debug mode. No sleep required before write. Time since previous read: 21.4 ms, minimum silent period: 4.01 ms.\n",
      "MinimalModbus debug mode. Response from instrument: '\\x02\\x04\\x02\\x000ý$' (02 04 02 00 30 FD 24) (7 bytes), roundtrip time: 20.2 ms. Timeout setting: 100.0 ms.\n",
      "\n",
      "2016-01-29 12:16:41,512 [DEBUG] pvi.h5.controller: 1st word value: 48\n",
      "2016-01-29 12:16:41,520 [DEBUG] pvi.h5.controller: reading register: Voltage,1057,1\n",
      "\n",
      "MinimalModbus debug mode. Writing to instrument (expecting 7 bytes back): '\\x02\\x04\\x04 \\x00\\x011\\x03' (02 04 04 20 00 01 31 03)\n",
      "MinimalModbus debug mode. No sleep required before write. Time since previous read: 21.3 ms, minimum silent period: 4.01 ms.\n",
      "MinimalModbus debug mode. Response from instrument: '\\x02\\x04\\x02\\x15\\x14ó¯' (02 04 02 15 14 F3 AF) (7 bytes), roundtrip time: 19.1 ms. Timeout setting: 100.0 ms.\n",
      "\n",
      "2016-01-29 12:16:41,552 [DEBUG] pvi.h5.controller: 1st word value: 5396\n",
      "2016-01-29 12:16:41,560 [DEBUG] pvi.h5.controller: reading register: Current,1058,1\n",
      "\n",
      "MinimalModbus debug mode. Writing to instrument (expecting 7 bytes back): '\\x02\\x04\\x04!\\x00\\x01`Ã' (02 04 04 21 00 01 60 C3)\n",
      "MinimalModbus debug mode. No sleep required before write. Time since previous read: 20.4 ms, minimum silent period: 4.01 ms.\n",
      "MinimalModbus debug mode. Response from instrument: '\\x02\\x04\\x02\\x00@üÀ' (02 04 02 00 40 FC C0) (7 bytes), roundtrip time: 18.9 ms. Timeout setting: 100.0 ms.\n",
      "\n",
      "2016-01-29 12:16:41,592 [DEBUG] pvi.h5.controller: 1st word value: 64\n",
      "2016-01-29 12:16:41,610 [DEBUG] pvi.h5.controller: reading register: Wattage,1059,1\n",
      "\n",
      "MinimalModbus debug mode. Writing to instrument (expecting 7 bytes back): '\\x02\\x04\\x04\"\\x00\\x01\\x90Ã' (02 04 04 22 00 01 90 C3)\n",
      "MinimalModbus debug mode. No sleep required before write. Time since previous read: 33.0 ms, minimum silent period: 4.01 ms.\n",
      "MinimalModbus debug mode. Response from instrument: '\\x02\\x04\\x02\\x01[½[' (02 04 02 01 5B BD 5B) (7 bytes), roundtrip time: 18.9 ms. Timeout setting: 100.0 ms.\n",
      "\n",
      "2016-01-29 12:16:41,644 [DEBUG] pvi.h5.controller: 1st word value: 347\n",
      "2016-01-29 12:16:41,651 [DEBUG] pvi.h5.controller: reading register: Frequency,1060,1\n",
      "\n",
      "MinimalModbus debug mode. Writing to instrument (expecting 7 bytes back): '\\x02\\x04\\x04#\\x00\\x01Á\\x03' (02 04 04 23 00 01 C1 03)\n",
      "MinimalModbus debug mode. No sleep required before write. Time since previous read: 20.6 ms, minimum silent period: 4.01 ms.\n",
      "MinimalModbus debug mode. Response from instrument: '\\x02\\x04\\x02\\x00\\x00ý0' (02 04 02 00 00 FD 30) (7 bytes), roundtrip time: 21.2 ms. Timeout setting: 100.0 ms.\n",
      "\n",
      "2016-01-29 12:16:41,687 [DEBUG] pvi.h5.controller: 1st word value: 0\n",
      "2016-01-29 12:16:41,696 [DEBUG] pvi.h5.controller: reading register: Percentage,1061,1\n",
      "\n",
      "MinimalModbus debug mode. Writing to instrument (expecting 7 bytes back): '\\x02\\x04\\x04$\\x00\\x01pÂ' (02 04 04 24 00 01 70 C2)\n",
      "MinimalModbus debug mode. No sleep required before write. Time since previous read: 23.1 ms, minimum silent period: 4.01 ms.\n",
      "MinimalModbus debug mode. Response from instrument: '\\x02\\x04\\x02\\x00\\x00ý0' (02 04 02 00 00 FD 30) (7 bytes), roundtrip time: 18.5 ms. Timeout setting: 100.0 ms.\n",
      "\n",
      "2016-01-29 12:16:41,729 [DEBUG] pvi.h5.controller: 1st word value: 0\n",
      "2016-01-29 12:16:41,735 [DEBUG] pvi.h5.controller: reading register: Redundant Voltage,1062,1\n",
      "\n",
      "MinimalModbus debug mode. Writing to instrument (expecting 7 bytes back): '\\x02\\x04\\x04%\\x00\\x01!\\x02' (02 04 04 25 00 01 21 02)\n",
      "MinimalModbus debug mode. No sleep required before write. Time since previous read: 18.8 ms, minimum silent period: 4.01 ms.\n",
      "MinimalModbus debug mode. Response from instrument: '\\x02\\x04\\x02\\x00\\x00ý0' (02 04 02 00 00 FD 30) (7 bytes), roundtrip time: 18.7 ms. Timeout setting: 100.0 ms.\n",
      "\n",
      "2016-01-29 12:16:41,766 [DEBUG] pvi.h5.controller: 1st word value: 0\n",
      "2016-01-29 12:16:41,773 [DEBUG] pvi.h5.controller: reading register: Redundant Frequency,1063,1\n",
      "\n",
      "MinimalModbus debug mode. Writing to instrument (expecting 7 bytes back): '\\x02\\x04\\x04&\\x00\\x01Ñ\\x02' (02 04 04 26 00 01 D1 02)\n",
      "MinimalModbus debug mode. No sleep required before write. Time since previous read: 18.8 ms, minimum silent period: 4.01 ms.\n",
      "MinimalModbus debug mode. Response from instrument: '\\x02\\x04\\x02\\x00\\x00ý0' (02 04 02 00 00 FD 30) (7 bytes), roundtrip time: 18.6 ms. Timeout setting: 100.0 ms.\n",
      "\n",
      "2016-01-29 12:16:41,804 [DEBUG] pvi.h5.controller: 1st word value: 0\n",
      "2016-01-29 12:16:41,810 [DEBUG] pvi.h5.controller: reading register: Adc Voltage,1068,1\n",
      "\n",
      "MinimalModbus debug mode. Writing to instrument (expecting 7 bytes back): '\\x02\\x04\\x04+\\x00\\x01@Á' (02 04 04 2B 00 01 40 C1)\n",
      "MinimalModbus debug mode. No sleep required before write. Time since previous read: 18.9 ms, minimum silent period: 4.01 ms.\n",
      "MinimalModbus debug mode. Response from instrument: '\\x02\\x04\\x02\\x07Lþõ' (02 04 02 07 4C FE F5) (7 bytes), roundtrip time: 17.9 ms. Timeout setting: 100.0 ms.\n",
      "\n",
      "2016-01-29 12:16:41,841 [DEBUG] pvi.h5.controller: 1st word value: 1868\n",
      "2016-01-29 12:16:41,847 [DEBUG] pvi.h5.controller: reading register: Adc Current,1069,1\n",
      "\n",
      "MinimalModbus debug mode. Writing to instrument (expecting 7 bytes back): '\\x02\\x04\\x04,\\x00\\x01ñ\\x00' (02 04 04 2C 00 01 F1 00)\n",
      "MinimalModbus debug mode. No sleep required before write. Time since previous read: 18.8 ms, minimum silent period: 4.01 ms.\n",
      "MinimalModbus debug mode. Response from instrument: '\\x02\\x04\\x02\\x00<ý!' (02 04 02 00 3C FD 21) (7 bytes), roundtrip time: 18.0 ms. Timeout setting: 100.0 ms.\n",
      "\n",
      "2016-01-29 12:16:41,878 [DEBUG] pvi.h5.controller: 1st word value: 60\n",
      "2016-01-29 12:16:41,887 [DEBUG] pvi.h5.controller: reading register: Adc Wattage,1070,1\n",
      "\n",
      "MinimalModbus debug mode. Writing to instrument (expecting 7 bytes back): '\\x02\\x04\\x04-\\x00\\x01\\xa0À' (02 04 04 2D 00 01 A0 C0)\n",
      "MinimalModbus debug mode. No sleep required before write. Time since previous read: 25.4 ms, minimum silent period: 4.01 ms.\n",
      "MinimalModbus debug mode. Response from instrument: '\\x02\\x04\\x02\\x01¸üÒ' (02 04 02 01 B8 FC D2) (7 bytes), roundtrip time: 18.9 ms. Timeout setting: 100.0 ms.\n",
      "\n",
      "2016-01-29 12:16:41,923 [DEBUG] pvi.h5.controller: 1st word value: 440\n",
      "2016-01-29 12:16:41,931 [DEBUG] pvi.h5.controller: reading register: Adc Redundant Voltage,1071,1\n",
      "\n",
      "MinimalModbus debug mode. Writing to instrument (expecting 7 bytes back): '\\x02\\x04\\x04.\\x00\\x01PÀ' (02 04 04 2E 00 01 50 C0)\n",
      "MinimalModbus debug mode. No sleep required before write. Time since previous read: 23.6 ms, minimum silent period: 4.01 ms.\n",
      "MinimalModbus debug mode. Response from instrument: '\\x02\\x04\\x02\\x00\\x00ý0' (02 04 02 00 00 FD 30) (7 bytes), roundtrip time: 18.4 ms. Timeout setting: 100.0 ms.\n",
      "\n",
      "2016-01-29 12:16:41,965 [DEBUG] pvi.h5.controller: 1st word value: 0\n",
      "2016-01-29 12:16:41,975 [DEBUG] pvi.h5.controller: reading register: Today Wh,1072,2\n",
      "\n",
      "MinimalModbus debug mode. Writing to instrument (expecting 7 bytes back): '\\x02\\x04\\x04/\\x00\\x01\\x01\\x00' (02 04 04 2F 00 01 01 00)\n",
      "MinimalModbus debug mode. No sleep required before write. Time since previous read: 27.1 ms, minimum silent period: 4.01 ms.\n",
      "MinimalModbus debug mode. Response from instrument: '\\x02\\x04\\x02\\x00\\x81=P' (02 04 02 00 81 3D 50) (7 bytes), roundtrip time: 18.4 ms. Timeout setting: 100.0 ms.\n",
      "\n",
      "2016-01-29 12:16:42,011 [DEBUG] pvi.h5.controller: 1st word value: 129\n",
      "\n",
      "MinimalModbus debug mode. Writing to instrument (expecting 7 bytes back): '\\x02\\x04\\x040\\x00\\x010Æ' (02 04 04 30 00 01 30 C6)\n",
      "MinimalModbus debug mode. No sleep required before write. Time since previous read: 15.7 ms, minimum silent period: 4.01 ms.\n",
      "MinimalModbus debug mode. Response from instrument: '\\x02\\x04\\x02\\x00\\x00ý0' (02 04 02 00 00 FD 30) (7 bytes), roundtrip time: 18.7 ms. Timeout setting: 100.0 ms.\n",
      "\n",
      "2016-01-29 12:16:42,046 [DEBUG] pvi.h5.controller: reading register: Today Runtime,1074,2\n",
      "\n",
      "MinimalModbus debug mode. Writing to instrument (expecting 7 bytes back): '\\x02\\x04\\x041\\x00\\x01a\\x06' (02 04 04 31 00 01 61 06)\n",
      "MinimalModbus debug mode. No sleep required before write. Time since previous read: 16.3 ms, minimum silent period: 4.01 ms.\n",
      "MinimalModbus debug mode. Response from instrument: '\\x02\\x04\\x02H\\x01\\nð' (02 04 02 48 01 0A F0) (7 bytes), roundtrip time: 18.2 ms. Timeout setting: 100.0 ms.\n",
      "\n",
      "2016-01-29 12:16:42,080 [DEBUG] pvi.h5.controller: 1st word value: 18433\n",
      "\n",
      "MinimalModbus debug mode. Writing to instrument (expecting 7 bytes back): '\\x02\\x04\\x042\\x00\\x01\\x91\\x06' (02 04 04 32 00 01 91 06)\n",
      "MinimalModbus debug mode. No sleep required before write. Time since previous read: 16.2 ms, minimum silent period: 4.01 ms.\n",
      "MinimalModbus debug mode. Response from instrument: '\\x02\\x04\\x02\\x00\\x00ý0' (02 04 02 00 00 FD 30) (7 bytes), roundtrip time: 18.0 ms. Timeout setting: 100.0 ms.\n",
      "\n",
      "2016-01-29 12:16:42,115 [DEBUG] pvi.h5.controller: reading register: DC Life Wh,1076,2\n",
      "\n",
      "MinimalModbus debug mode. Writing to instrument (expecting 7 bytes back): '\\x02\\x04\\x043\\x00\\x01ÀÆ' (02 04 04 33 00 01 C0 C6)\n",
      "MinimalModbus debug mode. No sleep required before write. Time since previous read: 16.7 ms, minimum silent period: 4.01 ms.\n",
      "MinimalModbus debug mode. Response from instrument: '\\x02\\x04\\x02?S¬ý' (02 04 02 3F 53 AC FD) (7 bytes), roundtrip time: 19.0 ms. Timeout setting: 100.0 ms.\n",
      "\n",
      "2016-01-29 12:16:42,151 [DEBUG] pvi.h5.controller: 1st word value: 16211\n",
      "\n",
      "MinimalModbus debug mode. Writing to instrument (expecting 7 bytes back): '\\x02\\x04\\x044\\x00\\x01q\\x07' (02 04 04 34 00 01 71 07)\n",
      "MinimalModbus debug mode. No sleep required before write. Time since previous read: 17.9 ms, minimum silent period: 4.01 ms.\n",
      "MinimalModbus debug mode. Response from instrument: '\\x02\\x04\\x02\\x00\\x04üó' (02 04 02 00 04 FC F3) (7 bytes), roundtrip time: 19.0 ms. Timeout setting: 100.0 ms.\n",
      "\n",
      "2016-01-29 12:16:42,188 [DEBUG] pvi.h5.controller: reading register: DC Life Runtime,1078,2\n",
      "\n",
      "MinimalModbus debug mode. Writing to instrument (expecting 7 bytes back): '\\x02\\x04\\x045\\x00\\x01 Ç' (02 04 04 35 00 01 20 C7)\n",
      "MinimalModbus debug mode. No sleep required before write. Time since previous read: 14.0 ms, minimum silent period: 4.01 ms.\n",
      "MinimalModbus debug mode. Response from instrument: '\\x02\\x04\\x02ûa\\x7fè' (02 04 02 FB 61 7F E8) (7 bytes), roundtrip time: 19.1 ms. Timeout setting: 100.0 ms.\n",
      "\n",
      "2016-01-29 12:16:42,221 [DEBUG] pvi.h5.controller: 1st word value: 64353\n",
      "\n",
      "MinimalModbus debug mode. Writing to instrument (expecting 7 bytes back): '\\x02\\x04\\x046\\x00\\x01ÐÇ' (02 04 04 36 00 01 D0 C7)\n",
      "MinimalModbus debug mode. No sleep required before write. Time since previous read: 16.3 ms, minimum silent period: 4.01 ms.\n",
      "MinimalModbus debug mode. Response from instrument: '\\x02\\x04\\x02\\x00\\x8f¼\\x94' (02 04 02 00 8F BC 94) (7 bytes), roundtrip time: 19.2 ms. Timeout setting: 100.0 ms.\n",
      "\n",
      "[['Inverter Status', 27], ['Measurement Index', 48], ['Voltage', 5396], ['Current', 64], ['Wattage', 347], ['Frequency', 0], ['Percentage', 0], ['Redundant Voltage', 0], ['Redundant Frequency', 0], ['Adc Voltage', 1868], ['Adc Current', 60], ['Adc Wattage', 440], ['Adc Redundant Voltage', 0], ['Today Wh', 129], ['Today Runtime', 18433], ['DC Life Wh', 278355], ['DC Life Runtime', 9436001]]\n"
     ]
    }
   ],
   "source": [
    "print(h5_controller.get_polling_input_register_value())"
   ]
  },
  {
   "cell_type": "code",
   "execution_count": null,
   "metadata": {
    "collapsed": true
   },
   "outputs": [],
   "source": []
  }
 ],
 "metadata": {
  "kernelspec": {
   "display_name": "Python 3",
   "language": "python",
   "name": "python3"
  },
  "language_info": {
   "codemirror_mode": {
    "name": "ipython",
    "version": 3
   },
   "file_extension": ".py",
   "mimetype": "text/x-python",
   "name": "python",
   "nbconvert_exporter": "python",
   "pygments_lexer": "ipython3",
   "version": "3.4.2"
  }
 },
 "nbformat": 4,
 "nbformat_minor": 0
}
