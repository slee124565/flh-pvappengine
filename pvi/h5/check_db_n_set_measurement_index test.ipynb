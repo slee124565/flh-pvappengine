{
 "cells": [
  {
   "cell_type": "markdown",
   "metadata": {},
   "source": [
    "#### Setup Django environment"
   ]
  },
  {
   "cell_type": "code",
   "execution_count": 1,
   "metadata": {
    "collapsed": true
   },
   "outputs": [],
   "source": [
    "import os, sys, django\n",
    "os.environ['DJANGO_SETTINGS_MODULE'] = 'pvappengine.settings'\n",
    "sys.path.append(os.path.dirname(os.path.dirname(os.getcwd())))\n",
    "django.setup()"
   ]
  },
  {
   "cell_type": "markdown",
   "metadata": {},
   "source": [
    "#### check_db_n_set_measurement_index function code"
   ]
  },
  {
   "cell_type": "code",
   "execution_count": 2,
   "metadata": {
    "collapsed": false
   },
   "outputs": [
    {
     "name": "stdout",
     "output_type": "stream",
     "text": [
      "2016-01-29 11:50:32,912 [INFO] pvi.h5.controller: pvs[0] meta: {'type': 'DELTA_PRI_H5', 'modbus_id': 2, 'name': 'H5', 'serial': {'timeout': 0.1, 'bytesize': 8, 'stopbits': 1, 'port': '/dev/ttyUSB0', 'parity': 'N', 'baudrate': 9600}}\n",
      "2016-01-29 11:50:32,918 [WARNING] pvi.h5.controller: pvi connection is not exist! enter simulation mode\n"
     ]
    }
   ],
   "source": [
    "from pvi.h5 import controller"
   ]
  },
  {
   "cell_type": "code",
   "execution_count": null,
   "metadata": {
    "collapsed": true
   },
   "outputs": [],
   "source": [
    "reg_name = 'Measurement Index'\n",
    "reg_data = RegData.objects.filter(address=INPUT_REGISTER[reg_name][RegCol.address.value]).order_by('-date')[0]\n",
    "reg_value = reg_data.value\n",
    "if reg_value != MeasurementIndexCodeEnum.u_grid.value:\n",
    "    logger.warning('inverter Measurement Index value %d is not U Grid config value %d, reset it' %(reg_value,\n",
    "                                                        MeasurementIndexCodeEnum.u_grid.value))\n",
    "    instr.write_registers(HOLDING_REGISTER[reg_name][RegCol.address.value], \n",
    "                          MeasurementIndexCodeEnum.u_grid.value,\n",
    "                          functioncode = 6)\n",
    "    if get_register_value_by_name(reg_name) != MeasurementIndexCodeEnum.u_grid.value:\n",
    "        logger.error('reset Measurement Index register failed')\n",
    "else:\n",
    "    logger.debug('inverter Measurement Index value check passed')\n"
   ]
  }
 ],
 "metadata": {
  "kernelspec": {
   "display_name": "Python 3",
   "language": "python",
   "name": "python3"
  },
  "language_info": {
   "codemirror_mode": {
    "name": "ipython",
    "version": 3
   },
   "file_extension": ".py",
   "mimetype": "text/x-python",
   "name": "python",
   "nbconvert_exporter": "python",
   "pygments_lexer": "ipython3",
   "version": "3.5.1"
  }
 },
 "nbformat": 4,
 "nbformat_minor": 0
}
