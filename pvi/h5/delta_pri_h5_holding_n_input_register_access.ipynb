{
 "cells": [
  {
   "cell_type": "markdown",
   "metadata": {},
   "source": [
    "#### Setup Django Environment"
   ]
  },
  {
   "cell_type": "code",
   "execution_count": 1,
   "metadata": {
    "collapsed": true
   },
   "outputs": [],
   "source": [
    "import os, sys, django"
   ]
  },
  {
   "cell_type": "code",
   "execution_count": 2,
   "metadata": {
    "collapsed": true
   },
   "outputs": [],
   "source": [
    "os.environ['DJANGO_SETTINGS_MODULE'] = 'pvappengine.settings'"
   ]
  },
  {
   "cell_type": "code",
   "execution_count": 3,
   "metadata": {
    "collapsed": false
   },
   "outputs": [],
   "source": [
    "sys.path.append(os.path.dirname(os.path.dirname(os.getcwd())))"
   ]
  },
  {
   "cell_type": "code",
   "execution_count": 4,
   "metadata": {
    "collapsed": true
   },
   "outputs": [],
   "source": [
    "django.setup()"
   ]
  },
  {
   "cell_type": "markdown",
   "metadata": {},
   "source": [
    "#### setup H5 Input Register reading function"
   ]
  },
  {
   "cell_type": "code",
   "execution_count": 9,
   "metadata": {
    "collapsed": true
   },
   "outputs": [],
   "source": [
    "import minimalmodbus\n",
    "from pvi.h5 import controller as h5_controller\n",
    "instr = minimalmodbus.Instrument('/dev/ttyUSB0',2)    \n",
    "instr.serial.baudrate = 9600    \n",
    "instr.serial.timeout = 0.1\n",
    "instr.debug=True"
   ]
  },
  {
   "cell_type": "code",
   "execution_count": 20,
   "metadata": {
    "collapsed": false
   },
   "outputs": [
    {
     "name": "stdout",
     "output_type": "stream",
     "text": [
      "\n",
      "MinimalModbus debug mode. Writing to instrument (expecting 7 bytes back): '\\x02\\x03\\x03\\x1f\\x00\\x01µ»' (02 03 03 1F 00 01 B5 BB)\n",
      "MinimalModbus debug mode. No sleep required before write. Time since previous read: 12798.8 ms, minimum silent period: 4.01 ms.\n",
      "MinimalModbus debug mode. Response from instrument: '\\x02\\x03\\x02\\x000üP' (02 03 02 00 30 FC 50) (7 bytes), roundtrip time: 18.4 ms. Timeout setting: 100.0 ms.\n",
      "\n"
     ]
    },
    {
     "data": {
      "text/plain": [
       "48"
      ]
     },
     "execution_count": 20,
     "metadata": {},
     "output_type": "execute_result"
    }
   ],
   "source": [
    "instr.read_register(800-1,functioncode=3)"
   ]
  },
  {
   "cell_type": "code",
   "execution_count": 22,
   "metadata": {
    "collapsed": false
   },
   "outputs": [
    {
     "name": "stdout",
     "output_type": "stream",
     "text": [
      "\n",
      "MinimalModbus debug mode. Writing to instrument (expecting 8 bytes back): '\\x02\\x06\\x03\\x1f\\x00\\x00¸{' (02 06 03 1F 00 00 B8 7B)\n",
      "MinimalModbus debug mode. No sleep required before write. Time since previous read: 278660.0 ms, minimum silent period: 4.01 ms.\n",
      "MinimalModbus debug mode. Response from instrument: '\\x02\\x06\\x03\\x1f\\x00\\x00¸{' (02 06 03 1F 00 00 B8 7B) (8 bytes), roundtrip time: 19.7 ms. Timeout setting: 100.0 ms.\n",
      "\n"
     ]
    }
   ],
   "source": [
    "instr.write_register(800-1,0,functioncode=6)"
   ]
  },
  {
   "cell_type": "code",
   "execution_count": 23,
   "metadata": {
    "collapsed": false
   },
   "outputs": [
    {
     "name": "stdout",
     "output_type": "stream",
     "text": [
      "2016-01-05 12:02:56,995 [DEBUG] pvi.h5.controller: reading register: Inverter Status,1048,1\n",
      "\n",
      "MinimalModbus debug mode. Writing to instrument (expecting 7 bytes back): '\\x02\\x04\\x04\\x17\\x00\\x01\\x80Í' (02 04 04 17 00 01 80 CD)\n",
      "MinimalModbus debug mode. No sleep required before write. Time since previous read: 30444.6 ms, minimum silent period: 4.01 ms.\n",
      "MinimalModbus debug mode. Response from instrument: '\\x02\\x04\\x02\\x00\\x1b½;' (02 04 02 00 1B BD 3B) (7 bytes), roundtrip time: 19.0 ms. Timeout setting: 100.0 ms.\n",
      "\n",
      "2016-01-05 12:02:57,030 [DEBUG] pvi.h5.controller: 1st word value: 27\n",
      "2016-01-05 12:02:57,036 [DEBUG] pvi.h5.controller: reading register: Measurement Index,1056,1\n",
      "\n",
      "MinimalModbus debug mode. Writing to instrument (expecting 7 bytes back): '\\x02\\x04\\x04\\x1f\\x00\\x01\\x01\\x0f' (02 04 04 1F 00 01 01 0F)\n",
      "MinimalModbus debug mode. No sleep required before write. Time since previous read: 19.3 ms, minimum silent period: 4.01 ms.\n",
      "MinimalModbus debug mode. Response from instrument: '\\x02\\x04\\x02\\x00\\x00ý0' (02 04 02 00 00 FD 30) (7 bytes), roundtrip time: 18.3 ms. Timeout setting: 100.0 ms.\n",
      "\n",
      "2016-01-05 12:02:57,067 [DEBUG] pvi.h5.controller: 1st word value: 0\n",
      "2016-01-05 12:02:57,074 [DEBUG] pvi.h5.controller: reading register: Voltage,1057,1\n",
      "\n",
      "MinimalModbus debug mode. Writing to instrument (expecting 7 bytes back): '\\x02\\x04\\x04 \\x00\\x011\\x03' (02 04 04 20 00 01 31 03)\n",
      "MinimalModbus debug mode. No sleep required before write. Time since previous read: 19.1 ms, minimum silent period: 4.01 ms.\n",
      "MinimalModbus debug mode. Response from instrument: '\\x02\\x04\\x02\\t<ûq' (02 04 02 09 3C FB 71) (7 bytes), roundtrip time: 18.9 ms. Timeout setting: 100.0 ms.\n",
      "\n",
      "2016-01-05 12:02:57,106 [DEBUG] pvi.h5.controller: 1st word value: 2364\n",
      "2016-01-05 12:02:57,112 [DEBUG] pvi.h5.controller: reading register: Current,1058,1\n",
      "\n",
      "MinimalModbus debug mode. Writing to instrument (expecting 7 bytes back): '\\x02\\x04\\x04!\\x00\\x01`Ã' (02 04 04 21 00 01 60 C3)\n",
      "MinimalModbus debug mode. No sleep required before write. Time since previous read: 18.8 ms, minimum silent period: 4.01 ms.\n",
      "MinimalModbus debug mode. Response from instrument: '\\x02\\x04\\x02\\x02\\x1b¼[' (02 04 02 02 1B BC 5B) (7 bytes), roundtrip time: 18.2 ms. Timeout setting: 100.0 ms.\n",
      "\n",
      "2016-01-05 12:02:57,143 [DEBUG] pvi.h5.controller: 1st word value: 539\n",
      "2016-01-05 12:02:57,149 [DEBUG] pvi.h5.controller: reading register: Wattage,1059,1\n",
      "\n",
      "MinimalModbus debug mode. Writing to instrument (expecting 7 bytes back): '\\x02\\x04\\x04\"\\x00\\x01\\x90Ã' (02 04 04 22 00 01 90 C3)\n",
      "MinimalModbus debug mode. No sleep required before write. Time since previous read: 19.1 ms, minimum silent period: 4.01 ms.\n",
      "MinimalModbus debug mode. Response from instrument: '\\x02\\x04\\x02\\x04ï¾|' (02 04 02 04 EF BE 7C) (7 bytes), roundtrip time: 19.2 ms. Timeout setting: 100.0 ms.\n",
      "\n",
      "2016-01-05 12:02:57,182 [DEBUG] pvi.h5.controller: 1st word value: 1263\n",
      "2016-01-05 12:02:57,188 [DEBUG] pvi.h5.controller: reading register: Frequency,1060,1\n",
      "\n",
      "MinimalModbus debug mode. Writing to instrument (expecting 7 bytes back): '\\x02\\x04\\x04#\\x00\\x01Á\\x03' (02 04 04 23 00 01 C1 03)\n",
      "MinimalModbus debug mode. No sleep required before write. Time since previous read: 19.1 ms, minimum silent period: 4.01 ms.\n",
      "MinimalModbus debug mode. Response from instrument: '\\x02\\x04\\x02\\x17pó$' (02 04 02 17 70 F3 24) (7 bytes), roundtrip time: 18.9 ms. Timeout setting: 100.0 ms.\n",
      "\n",
      "2016-01-05 12:02:57,220 [DEBUG] pvi.h5.controller: 1st word value: 6000\n",
      "2016-01-05 12:02:57,227 [DEBUG] pvi.h5.controller: reading register: Percentage,1061,1\n",
      "\n",
      "MinimalModbus debug mode. Writing to instrument (expecting 7 bytes back): '\\x02\\x04\\x04$\\x00\\x01pÂ' (02 04 04 24 00 01 70 C2)\n",
      "MinimalModbus debug mode. No sleep required before write. Time since previous read: 22.2 ms, minimum silent period: 4.01 ms.\n",
      "MinimalModbus debug mode. Response from instrument: '\\x02\\x04\\x02\\x00\\x00ý0' (02 04 02 00 00 FD 30) (7 bytes), roundtrip time: 20.9 ms. Timeout setting: 100.0 ms.\n",
      "\n",
      "2016-01-05 12:02:57,263 [DEBUG] pvi.h5.controller: 1st word value: 0\n",
      "2016-01-05 12:02:57,271 [DEBUG] pvi.h5.controller: reading register: Redundant Voltage,1062,1\n",
      "\n",
      "MinimalModbus debug mode. Writing to instrument (expecting 7 bytes back): '\\x02\\x04\\x04%\\x00\\x01!\\x02' (02 04 04 25 00 01 21 02)\n",
      "MinimalModbus debug mode. No sleep required before write. Time since previous read: 21.5 ms, minimum silent period: 4.01 ms.\n",
      "MinimalModbus debug mode. Response from instrument: '\\x02\\x04\\x02\\t4ú·' (02 04 02 09 34 FA B7) (7 bytes), roundtrip time: 19.1 ms. Timeout setting: 100.0 ms.\n",
      "\n",
      "2016-01-05 12:02:57,304 [DEBUG] pvi.h5.controller: 1st word value: 2356\n",
      "2016-01-05 12:02:57,310 [DEBUG] pvi.h5.controller: reading register: Redundant Frequency,1063,1\n",
      "\n",
      "MinimalModbus debug mode. Writing to instrument (expecting 7 bytes back): '\\x02\\x04\\x04&\\x00\\x01Ñ\\x02' (02 04 04 26 00 01 D1 02)\n",
      "MinimalModbus debug mode. No sleep required before write. Time since previous read: 18.3 ms, minimum silent period: 4.01 ms.\n",
      "MinimalModbus debug mode. Response from instrument: '\\x02\\x04\\x02\\x17o²ì' (02 04 02 17 6F B2 EC) (7 bytes), roundtrip time: 18.6 ms. Timeout setting: 100.0 ms.\n",
      "\n",
      "2016-01-05 12:02:57,341 [DEBUG] pvi.h5.controller: 1st word value: 5999\n",
      "2016-01-05 12:02:57,347 [DEBUG] pvi.h5.controller: reading register: Adc Voltage,1068,1\n",
      "\n",
      "MinimalModbus debug mode. Writing to instrument (expecting 7 bytes back): '\\x02\\x04\\x04+\\x00\\x01@Á' (02 04 04 2B 00 01 40 C1)\n",
      "MinimalModbus debug mode. No sleep required before write. Time since previous read: 18.9 ms, minimum silent period: 4.01 ms.\n",
      "MinimalModbus debug mode. Response from instrument: '\\x02\\x04\\x02\\x04$ÿë' (02 04 02 04 24 FF EB) (7 bytes), roundtrip time: 19.2 ms. Timeout setting: 100.0 ms.\n",
      "\n",
      "2016-01-05 12:02:57,379 [DEBUG] pvi.h5.controller: 1st word value: 1060\n",
      "2016-01-05 12:02:57,386 [DEBUG] pvi.h5.controller: reading register: Adc Current,1069,1\n",
      "\n",
      "MinimalModbus debug mode. Writing to instrument (expecting 7 bytes back): '\\x02\\x04\\x04,\\x00\\x01ñ\\x00' (02 04 04 2C 00 01 F1 00)\n",
      "MinimalModbus debug mode. No sleep required before write. Time since previous read: 18.9 ms, minimum silent period: 4.01 ms.\n",
      "MinimalModbus debug mode. Response from instrument: '\\x02\\x04\\x02\\x00±=D' (02 04 02 00 B1 3D 44) (7 bytes), roundtrip time: 19.1 ms. Timeout setting: 100.0 ms.\n",
      "\n",
      "2016-01-05 12:02:57,418 [DEBUG] pvi.h5.controller: 1st word value: 177\n",
      "2016-01-05 12:02:57,426 [DEBUG] pvi.h5.controller: reading register: Adc Wattage,1070,1\n",
      "\n",
      "MinimalModbus debug mode. Writing to instrument (expecting 7 bytes back): '\\x02\\x04\\x04-\\x00\\x01\\xa0À' (02 04 04 2D 00 01 A0 C0)\n",
      "MinimalModbus debug mode. No sleep required before write. Time since previous read: 24.6 ms, minimum silent period: 4.01 ms.\n",
      "MinimalModbus debug mode. Response from instrument: '\\x02\\x04\\x02\\x02Û¼\\x0b' (02 04 02 02 DB BC 0B) (7 bytes), roundtrip time: 18.4 ms. Timeout setting: 100.0 ms.\n",
      "\n",
      "2016-01-05 12:02:57,462 [DEBUG] pvi.h5.controller: 1st word value: 731\n",
      "2016-01-05 12:02:57,470 [DEBUG] pvi.h5.controller: reading register: Adc Redundant Voltage,1071,1\n",
      "\n",
      "MinimalModbus debug mode. Writing to instrument (expecting 7 bytes back): '\\x02\\x04\\x04.\\x00\\x01PÀ' (02 04 04 2E 00 01 50 C0)\n",
      "MinimalModbus debug mode. No sleep required before write. Time since previous read: 26.8 ms, minimum silent period: 4.01 ms.\n",
      "MinimalModbus debug mode. Response from instrument: '\\x02\\x04\\x02\\x03¹<r' (02 04 02 03 B9 3C 72) (7 bytes), roundtrip time: 18.8 ms. Timeout setting: 100.0 ms.\n",
      "\n",
      "2016-01-05 12:02:57,507 [DEBUG] pvi.h5.controller: 1st word value: 953\n",
      "2016-01-05 12:02:57,516 [DEBUG] pvi.h5.controller: reading register: Today Wh,1072,2\n",
      "\n",
      "MinimalModbus debug mode. Writing to instrument (expecting 7 bytes back): '\\x02\\x04\\x04/\\x00\\x01\\x01\\x00' (02 04 04 2F 00 01 01 00)\n",
      "MinimalModbus debug mode. No sleep required before write. Time since previous read: 25.0 ms, minimum silent period: 4.01 ms.\n",
      "MinimalModbus debug mode. Response from instrument: '\\x02\\x04\\x02\\x01M<\\x95' (02 04 02 01 4D 3C 95) (7 bytes), roundtrip time: 19.2 ms. Timeout setting: 100.0 ms.\n",
      "\n",
      "2016-01-05 12:02:57,552 [DEBUG] pvi.h5.controller: 1st word value: 333\n",
      "\n",
      "MinimalModbus debug mode. Writing to instrument (expecting 7 bytes back): '\\x02\\x04\\x040\\x00\\x010Æ' (02 04 04 30 00 01 30 C6)\n",
      "MinimalModbus debug mode. No sleep required before write. Time since previous read: 16.4 ms, minimum silent period: 4.01 ms.\n",
      "MinimalModbus debug mode. Response from instrument: '\\x02\\x04\\x02\\x00\\x00ý0' (02 04 02 00 00 FD 30) (7 bytes), roundtrip time: 18.1 ms. Timeout setting: 100.0 ms.\n",
      "\n",
      "2016-01-05 12:02:57,587 [DEBUG] pvi.h5.controller: reading register: Today Runtime,1074,2\n",
      "\n",
      "MinimalModbus debug mode. Writing to instrument (expecting 7 bytes back): '\\x02\\x04\\x041\\x00\\x01a\\x06' (02 04 04 31 00 01 61 06)\n",
      "MinimalModbus debug mode. No sleep required before write. Time since previous read: 19.2 ms, minimum silent period: 4.01 ms.\n",
      "MinimalModbus debug mode. Response from instrument: '\\x02\\x04\\x02H\\x0cË5' (02 04 02 48 0C CB 35) (7 bytes), roundtrip time: 19.0 ms. Timeout setting: 100.0 ms.\n",
      "\n",
      "2016-01-05 12:02:57,625 [DEBUG] pvi.h5.controller: 1st word value: 18444\n",
      "\n",
      "MinimalModbus debug mode. Writing to instrument (expecting 7 bytes back): '\\x02\\x04\\x042\\x00\\x01\\x91\\x06' (02 04 04 32 00 01 91 06)\n",
      "MinimalModbus debug mode. No sleep required before write. Time since previous read: 18.4 ms, minimum silent period: 4.01 ms.\n",
      "MinimalModbus debug mode. Response from instrument: '\\x02\\x04\\x02\\x00\\x00ý0' (02 04 02 00 00 FD 30) (7 bytes), roundtrip time: 18.0 ms. Timeout setting: 100.0 ms.\n",
      "\n",
      "2016-01-05 12:02:57,662 [DEBUG] pvi.h5.controller: reading register: DC Life Wh,1076,2\n",
      "\n",
      "MinimalModbus debug mode. Writing to instrument (expecting 7 bytes back): '\\x02\\x04\\x043\\x00\\x01ÀÆ' (02 04 04 33 00 01 C0 C6)\n",
      "MinimalModbus debug mode. No sleep required before write. Time since previous read: 16.0 ms, minimum silent period: 4.01 ms.\n",
      "MinimalModbus debug mode. Response from instrument: '\\x02\\x04\\x02\\x11ðñ$' (02 04 02 11 F0 F1 24) (7 bytes), roundtrip time: 18.4 ms. Timeout setting: 100.0 ms.\n",
      "\n",
      "2016-01-05 12:02:57,697 [DEBUG] pvi.h5.controller: 1st word value: 4592\n",
      "\n",
      "MinimalModbus debug mode. Writing to instrument (expecting 7 bytes back): '\\x02\\x04\\x044\\x00\\x01q\\x07' (02 04 04 34 00 01 71 07)\n",
      "MinimalModbus debug mode. No sleep required before write. Time since previous read: 18.2 ms, minimum silent period: 4.01 ms.\n",
      "MinimalModbus debug mode. Response from instrument: '\\x02\\x04\\x02\\x00\\x04üó' (02 04 02 00 04 FC F3) (7 bytes), roundtrip time: 18.5 ms. Timeout setting: 100.0 ms.\n",
      "\n",
      "2016-01-05 12:02:57,734 [DEBUG] pvi.h5.controller: reading register: DC Life Runtime,1078,2\n",
      "\n",
      "MinimalModbus debug mode. Writing to instrument (expecting 7 bytes back): '\\x02\\x04\\x045\\x00\\x01 Ç' (02 04 04 35 00 01 20 C7)\n",
      "MinimalModbus debug mode. No sleep required before write. Time since previous read: 16.1 ms, minimum silent period: 4.01 ms.\n",
      "MinimalModbus debug mode. Response from instrument: '\\x02\\x04\\x02vþZÐ' (02 04 02 76 FE 5A D0) (7 bytes), roundtrip time: 19.2 ms. Timeout setting: 100.0 ms.\n",
      "\n",
      "2016-01-05 12:02:57,769 [DEBUG] pvi.h5.controller: 1st word value: 30462\n",
      "\n",
      "MinimalModbus debug mode. Writing to instrument (expecting 7 bytes back): '\\x02\\x04\\x046\\x00\\x01ÐÇ' (02 04 04 36 00 01 D0 C7)\n",
      "MinimalModbus debug mode. No sleep required before write. Time since previous read: 14.7 ms, minimum silent period: 4.01 ms.\n",
      "MinimalModbus debug mode. Response from instrument: '\\x02\\x04\\x02\\x00\\x82}Q' (02 04 02 00 82 7D 51) (7 bytes), roundtrip time: 18.8 ms. Timeout setting: 100.0 ms.\n",
      "\n",
      "[['Inverter Status', 27], ['Measurement Index', 0], ['Voltage', 2364], ['Current', 539], ['Wattage', 1263], ['Frequency', 6000], ['Percentage', 0], ['Redundant Voltage', 2356], ['Redundant Frequency', 5999], ['Adc Voltage', 1060], ['Adc Current', 177], ['Adc Wattage', 731], ['Adc Redundant Voltage', 953], ['Today Wh', 333], ['Today Runtime', 18444], ['DC Life Wh', 266736], ['DC Life Runtime', 8550142]]\n"
     ]
    }
   ],
   "source": [
    "print(h5_controller.get_polling_input_register_value())"
   ]
  }
 ],
 "metadata": {
  "kernelspec": {
   "display_name": "Python 3",
   "language": "python",
   "name": "python3"
  },
  "language_info": {
   "codemirror_mode": {
    "name": "ipython",
    "version": 3
   },
   "file_extension": ".py",
   "mimetype": "text/x-python",
   "name": "python",
   "nbconvert_exporter": "python",
   "pygments_lexer": "ipython3",
   "version": "3.4.2"
  }
 },
 "nbformat": 4,
 "nbformat_minor": 0
}
