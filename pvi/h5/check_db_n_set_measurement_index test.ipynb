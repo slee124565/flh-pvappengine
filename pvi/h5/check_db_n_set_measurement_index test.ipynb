{
 "cells": [
  {
   "cell_type": "markdown",
   "metadata": {},
   "source": [
    "#### Setup Django environment"
   ]
  },
  {
   "cell_type": "code",
   "execution_count": 1,
   "metadata": {
    "collapsed": false
   },
   "outputs": [],
   "source": [
    "import os, sys, django\n",
    "os.environ['DJANGO_SETTINGS_MODULE'] = 'pvappengine.settings'\n",
    "sys.path.append(os.path.dirname(os.path.dirname(os.getcwd())))\n",
    "django.setup()"
   ]
  },
  {
   "cell_type": "markdown",
   "metadata": {},
   "source": [
    "#### check_db_n_set_measurement_index function code"
   ]
  },
  {
   "cell_type": "code",
   "execution_count": 2,
   "metadata": {
    "collapsed": false
   },
   "outputs": [
    {
     "name": "stdout",
     "output_type": "stream",
     "text": [
      "2016-01-29 12:32:28,274 [INFO] pvi.h5.controller: pvs[0] meta: {'name': 'H5', 'type': 'DELTA_PRI_H5', 'modbus_id': 2, 'serial': {'baudrate': 9600, 'port': '/dev/ttyUSB0', 'stopbits': 1, 'parity': 'N', 'bytesize': 8, 'timeout': 0.1}}\n",
      "2016-01-29 12:32:28,274 [INFO] pvi.h5.controller: pvs[0] meta: {'name': 'H5', 'type': 'DELTA_PRI_H5', 'modbus_id': 2, 'serial': {'baudrate': 9600, 'port': '/dev/ttyUSB0', 'stopbits': 1, 'parity': 'N', 'bytesize': 8, 'timeout': 0.1}}\n"
     ]
    }
   ],
   "source": [
    "from pvi.h5 import controller"
   ]
  },
  {
   "cell_type": "code",
   "execution_count": 3,
   "metadata": {
    "collapsed": false
   },
   "outputs": [],
   "source": [
    "from pvi import *\n",
    "from pvi.h5 import *\n",
    "from pvi.models import *\n",
    "from pvi.h5.controller import *"
   ]
  },
  {
   "cell_type": "code",
   "execution_count": 4,
   "metadata": {
    "collapsed": false
   },
   "outputs": [
    {
     "name": "stdout",
     "output_type": "stream",
     "text": [
      "2016-01-29 12:32:36,495 [DEBUG] pvi.h5.controller: reading register: Measurement Index,1056,1\n",
      "2016-01-29 12:32:36,495 [DEBUG] pvi.h5.controller: reading register: Measurement Index,1056,1\n",
      "\n",
      "MinimalModbus debug mode. Writing to instrument (expecting 7 bytes back): '\\x02\\x04\\x04\\x1f\\x00\\x01\\x01\\x0f' (02 04 04 1F 00 01 01 0F)\n",
      "MinimalModbus debug mode. No sleep required before write. Time since previous read: 1454041956506.6 ms, minimum silent period: 4.01 ms.\n",
      "MinimalModbus debug mode. Response from instrument: '\\x02\\x04\\x02\\x000ý$' (02 04 02 00 30 FD 24) (7 bytes), roundtrip time: 18.3 ms. Timeout setting: 100.0 ms.\n",
      "\n",
      "2016-01-29 12:32:36,527 [DEBUG] pvi.h5.controller: 1st word value: 48\n",
      "2016-01-29 12:32:36,534 [WARNING] pvi.h5.controller: inverter Measurement Index value 48 is not U Grid config value 0, reset it\n",
      "\n",
      "MinimalModbus debug mode. Writing to instrument (expecting 7 bytes back): '\\x02\\x04\\x04\\x1f\\x00\\x01\\x01\\x0f' (02 04 04 1F 00 01 01 0F)\n",
      "MinimalModbus debug mode. No sleep required before write. Time since previous read: 1454041956506.6 ms, minimum silent period: 4.01 ms.\n",
      "MinimalModbus debug mode. Response from instrument: '\\x02\\x04\\x02\\x000ý$' (02 04 02 00 30 FD 24) (7 bytes), roundtrip time: 18.3 ms. Timeout setting: 100.0 ms.\n",
      "\n",
      "2016-01-29 12:32:36,527 [DEBUG] pvi.h5.controller: 1st word value: 48\n",
      "2016-01-29 12:32:36,534 [WARNING] pvi.h5.controller: inverter Measurement Index value 48 is not U Grid config value 0, reset it\n",
      "\n",
      "MinimalModbus debug mode. Writing to instrument (expecting 8 bytes back): '\\x02\\x06\\x03\\x1f\\x00\\x00¸{' (02 06 03 1F 00 00 B8 7B)\n",
      "MinimalModbus debug mode. No sleep required before write. Time since previous read: 21.6 ms, minimum silent period: 4.01 ms.\n",
      "MinimalModbus debug mode. Response from instrument: '\\x02\\x06\\x03\\x1f\\x00\\x00¸{' (02 06 03 1F 00 00 B8 7B) (8 bytes), roundtrip time: 19.1 ms. Timeout setting: 100.0 ms.\n",
      "\n",
      "2016-01-29 12:32:36,569 [DEBUG] pvi.h5.controller: reading register: Measurement Index,1056,1\n",
      "\n",
      "MinimalModbus debug mode. Writing to instrument (expecting 8 bytes back): '\\x02\\x06\\x03\\x1f\\x00\\x00¸{' (02 06 03 1F 00 00 B8 7B)\n",
      "MinimalModbus debug mode. No sleep required before write. Time since previous read: 21.6 ms, minimum silent period: 4.01 ms.\n",
      "MinimalModbus debug mode. Response from instrument: '\\x02\\x06\\x03\\x1f\\x00\\x00¸{' (02 06 03 1F 00 00 B8 7B) (8 bytes), roundtrip time: 19.1 ms. Timeout setting: 100.0 ms.\n",
      "\n",
      "2016-01-29 12:32:36,569 [DEBUG] pvi.h5.controller: reading register: Measurement Index,1056,1\n",
      "\n",
      "MinimalModbus debug mode. Writing to instrument (expecting 7 bytes back): '\\x02\\x04\\x04\\x1f\\x00\\x01\\x01\\x0f' (02 04 04 1F 00 01 01 0F)\n",
      "MinimalModbus debug mode. No sleep required before write. Time since previous read: 13.2 ms, minimum silent period: 4.01 ms.\n",
      "MinimalModbus debug mode. Response from instrument: '\\x02\\x04\\x02\\x00\\x00ý0' (02 04 02 00 00 FD 30) (7 bytes), roundtrip time: 18.7 ms. Timeout setting: 100.0 ms.\n",
      "\n",
      "2016-01-29 12:32:36,600 [DEBUG] pvi.h5.controller: 1st word value: 0\n",
      "\n",
      "MinimalModbus debug mode. Writing to instrument (expecting 7 bytes back): '\\x02\\x04\\x04\\x1f\\x00\\x01\\x01\\x0f' (02 04 04 1F 00 01 01 0F)\n",
      "MinimalModbus debug mode. No sleep required before write. Time since previous read: 13.2 ms, minimum silent period: 4.01 ms.\n",
      "MinimalModbus debug mode. Response from instrument: '\\x02\\x04\\x02\\x00\\x00ý0' (02 04 02 00 00 FD 30) (7 bytes), roundtrip time: 18.7 ms. Timeout setting: 100.0 ms.\n",
      "\n",
      "2016-01-29 12:32:36,600 [DEBUG] pvi.h5.controller: 1st word value: 0\n"
     ]
    }
   ],
   "source": [
    "check_n_set_measurement_index()"
   ]
  },
  {
   "cell_type": "code",
   "execution_count": null,
   "metadata": {
    "collapsed": true
   },
   "outputs": [],
   "source": []
  }
 ],
 "metadata": {
  "kernelspec": {
   "display_name": "Python 3",
   "language": "python",
   "name": "python3"
  },
  "language_info": {
   "codemirror_mode": {
    "name": "ipython",
    "version": 3
   },
   "file_extension": ".py",
   "mimetype": "text/x-python",
   "name": "python",
   "nbconvert_exporter": "python",
   "pygments_lexer": "ipython3",
   "version": "3.4.2"
  }
 },
 "nbformat": 4,
 "nbformat_minor": 0
}
