{
 "cells": [
  {
   "cell_type": "markdown",
   "metadata": {},
   "source": [
    "# AccuWeather Model Class Test"
   ]
  },
  {
   "cell_type": "code",
   "execution_count": 1,
   "metadata": {
    "collapsed": true
   },
   "outputs": [],
   "source": [
    "import os, sys, django"
   ]
  },
  {
   "cell_type": "code",
   "execution_count": 2,
   "metadata": {
    "collapsed": false
   },
   "outputs": [],
   "source": [
    "sys.path.append(os.path.dirname(os.getcwd()))\n",
    "os.environ['DJANGO_SETTINGS_MODULE'] = 'pvappengine.settings'\n",
    "django.setup()"
   ]
  },
  {
   "cell_type": "code",
   "execution_count": 3,
   "metadata": {
    "collapsed": true
   },
   "outputs": [],
   "source": [
    "from dbconfig.views import get_app_json_db_config"
   ]
  },
  {
   "cell_type": "code",
   "execution_count": 4,
   "metadata": {
    "collapsed": true
   },
   "outputs": [],
   "source": [
    "import accuweather"
   ]
  },
  {
   "cell_type": "code",
   "execution_count": 5,
   "metadata": {
    "collapsed": false
   },
   "outputs": [
    {
     "name": "stdout",
     "output_type": "stream",
     "text": [
      "2016-03-02 15:55:27,702 [DEBUG] accuweather.models: api_url: http://api.accuweather.com/currentconditions/v1/2516626.json?apikey=ff1b463d98fb47af848ea2843ec5c925&language=zh-tw&details=true&getphotos=false\n",
      "2016-03-02 15:55:28,161 [DEBUG] accuweather.models: current condition: 22.8, 4, 9.7\n",
      "2016-03-02 15:55:28,161 [ERROR] accuweather.models: save_current_location_condition error\n",
      "Traceback (most recent call last):\n",
      "  File \"c:\\users\\shiueh\\envs\\pvappengine\\lib\\site-packages\\django\\db\\backends\\utils.py\", line 64, in execute\n",
      "    return self.cursor.execute(sql, params)\n",
      "  File \"c:\\users\\shiueh\\envs\\pvappengine\\lib\\site-packages\\django\\db\\backends\\sqlite3\\base.py\", line 323, in execute\n",
      "    return Database.Cursor.execute(self, query, params)\n",
      "sqlite3.IntegrityError: NOT NULL constraint failed: accuweather_currconditions.id\n",
      "\n",
      "The above exception was the direct cause of the following exception:\n",
      "\n",
      "Traceback (most recent call last):\n",
      "  File \"D:\\lee_shiueh\\FLH\\workspace\\django_apps\\pvappengine\\accuweather\\models.py\", line 56, in save_current_location_condition\n",
      "    db_entry.save()\n",
      "  File \"D:\\lee_shiueh\\FLH\\workspace\\django_apps\\pvappengine\\accuweather\\models.py\", line 20, in save\n",
      "    super(CurrConditions, self).save(*args, **kwargs)\n",
      "  File \"c:\\users\\shiueh\\envs\\pvappengine\\lib\\site-packages\\django\\db\\models\\base.py\", line 700, in save\n",
      "    force_update=force_update, update_fields=update_fields)\n",
      "  File \"c:\\users\\shiueh\\envs\\pvappengine\\lib\\site-packages\\django\\db\\models\\base.py\", line 728, in save_base\n",
      "    updated = self._save_table(raw, cls, force_insert, force_update, using, update_fields)\n",
      "  File \"c:\\users\\shiueh\\envs\\pvappengine\\lib\\site-packages\\django\\db\\models\\base.py\", line 812, in _save_table\n",
      "    result = self._do_insert(cls._base_manager, using, fields, update_pk, raw)\n",
      "  File \"c:\\users\\shiueh\\envs\\pvappengine\\lib\\site-packages\\django\\db\\models\\base.py\", line 851, in _do_insert\n",
      "    using=using, raw=raw)\n",
      "  File \"c:\\users\\shiueh\\envs\\pvappengine\\lib\\site-packages\\django\\db\\models\\manager.py\", line 122, in manager_method\n",
      "    return getattr(self.get_queryset(), name)(*args, **kwargs)\n",
      "  File \"c:\\users\\shiueh\\envs\\pvappengine\\lib\\site-packages\\django\\db\\models\\query.py\", line 1039, in _insert\n",
      "    return query.get_compiler(using=using).execute_sql(return_id)\n",
      "  File \"c:\\users\\shiueh\\envs\\pvappengine\\lib\\site-packages\\django\\db\\models\\sql\\compiler.py\", line 1064, in execute_sql\n",
      "    cursor.execute(sql, params)\n",
      "  File \"c:\\users\\shiueh\\envs\\pvappengine\\lib\\site-packages\\django\\db\\backends\\utils.py\", line 79, in execute\n",
      "    return super(CursorDebugWrapper, self).execute(sql, params)\n",
      "  File \"c:\\users\\shiueh\\envs\\pvappengine\\lib\\site-packages\\django\\db\\backends\\utils.py\", line 64, in execute\n",
      "    return self.cursor.execute(sql, params)\n",
      "  File \"c:\\users\\shiueh\\envs\\pvappengine\\lib\\site-packages\\django\\db\\utils.py\", line 95, in __exit__\n",
      "    six.reraise(dj_exc_type, dj_exc_value, traceback)\n",
      "  File \"c:\\users\\shiueh\\envs\\pvappengine\\lib\\site-packages\\django\\utils\\six.py\", line 685, in reraise\n",
      "    raise value.with_traceback(tb)\n",
      "  File \"c:\\users\\shiueh\\envs\\pvappengine\\lib\\site-packages\\django\\db\\backends\\utils.py\", line 64, in execute\n",
      "    return self.cursor.execute(sql, params)\n",
      "  File \"c:\\users\\shiueh\\envs\\pvappengine\\lib\\site-packages\\django\\db\\backends\\sqlite3\\base.py\", line 323, in execute\n",
      "    return Database.Cursor.execute(self, query, params)\n",
      "django.db.utils.IntegrityError: NOT NULL constraint failed: accuweather_currconditions.id\n"
     ]
    }
   ],
   "source": [
    "from accuweather.models import CurrConditions\n",
    "accu_dbconfig = get_app_json_db_config('accuweather', accuweather.DEFAULT_DB_CONFIG)\n",
    "CurrConditions.save_current_location_condition(accu_dbconfig['locationkey'],\n",
    "                                               accu_dbconfig['apikey'])\n"
   ]
  },
  {
   "cell_type": "code",
   "execution_count": null,
   "metadata": {
    "collapsed": true
   },
   "outputs": [],
   "source": []
  }
 ],
 "metadata": {
  "kernelspec": {
   "display_name": "Python 3",
   "language": "python",
   "name": "python3"
  },
  "language_info": {
   "codemirror_mode": {
    "name": "ipython",
    "version": 3
   },
   "file_extension": ".py",
   "mimetype": "text/x-python",
   "name": "python",
   "nbconvert_exporter": "python",
   "pygments_lexer": "ipython3",
   "version": "3.5.1"
  }
 },
 "nbformat": 4,
 "nbformat_minor": 0
}
