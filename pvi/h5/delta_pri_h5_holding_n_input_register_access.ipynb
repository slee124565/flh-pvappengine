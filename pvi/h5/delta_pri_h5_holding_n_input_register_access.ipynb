{
 "cells": [
  {
   "cell_type": "markdown",
   "metadata": {},
   "source": [
    "#### Setup Django Environment"
   ]
  },
  {
   "cell_type": "code",
   "execution_count": 1,
   "metadata": {
    "collapsed": true
   },
   "outputs": [],
   "source": [
    "import os, sys, django"
   ]
  },
  {
   "cell_type": "code",
   "execution_count": 2,
   "metadata": {
    "collapsed": true
   },
   "outputs": [],
   "source": [
    "os.environ['DJANGO_SETTINGS_MODULE'] = 'pvappengine.settings'"
   ]
  },
  {
   "cell_type": "code",
   "execution_count": 3,
   "metadata": {
    "collapsed": false
   },
   "outputs": [],
   "source": [
    "sys.path.append(os.path.dirname(os.path.dirname(os.getcwd())))"
   ]
  },
  {
   "cell_type": "code",
   "execution_count": 4,
   "metadata": {
    "collapsed": true
   },
   "outputs": [],
   "source": [
    "django.setup()"
   ]
  },
  {
   "cell_type": "markdown",
   "metadata": {},
   "source": [
    "#### setup H5 Input Register reading function"
   ]
  },
  {
   "cell_type": "code",
   "execution_count": 5,
   "metadata": {
    "collapsed": true
   },
   "outputs": [],
   "source": [
    "import minimalmodbus\n",
    "from pvi.h5 import controller as h5_controller\n",
    "instr = minimalmodbus.Instrument('/dev/ttyUSB0',2)    \n",
    "instr.serial.baudrate = 9600    \n",
    "instr.serial.timeout = 0.1\n",
    "instr.debug=True"
   ]
  },
  {
   "cell_type": "code",
   "execution_count": 6,
   "metadata": {
    "collapsed": false
   },
   "outputs": [
    {
     "name": "stdout",
     "output_type": "stream",
     "text": [
      "\n",
      "MinimalModbus debug mode. Writing to instrument (expecting 7 bytes back): '\\x02\\x03\\x03\\x1f\\x00\\x01µ»' (02 03 03 1F 00 01 B5 BB)\n",
      "MinimalModbus debug mode. No sleep required before write. Time since previous read: 1452158835106.7 ms, minimum silent period: 4.01 ms.\n",
      "MinimalModbus debug mode. Response from instrument: '\\x02\\x03\\x02\\x00\\x00üD' (02 03 02 00 00 FC 44) (7 bytes), roundtrip time: 18.1 ms. Timeout setting: 100.0 ms.\n",
      "\n"
     ]
    },
    {
     "data": {
      "text/plain": [
       "0"
      ]
     },
     "execution_count": 6,
     "metadata": {},
     "output_type": "execute_result"
    }
   ],
   "source": [
    "instr.read_register(800-1,functioncode=3)"
   ]
  },
  {
   "cell_type": "markdown",
   "metadata": {},
   "source": [
    "#### measurement index code\n",
    "0x00 U Grid <br>\n",
    "0x30 U dc1  (48) <br>\n",
    "0x31 U dc2 <br>"
   ]
  },
  {
   "cell_type": "code",
   "execution_count": null,
   "metadata": {
    "collapsed": false
   },
   "outputs": [],
   "source": [
    "instr.write_register(800-1,0,functioncode=6)"
   ]
  },
  {
   "cell_type": "code",
   "execution_count": 7,
   "metadata": {
    "collapsed": false
   },
   "outputs": [
    {
     "name": "stdout",
     "output_type": "stream",
     "text": [
      "2016-01-07 17:27:29,543 [DEBUG] pvi.h5.controller: reading register: Inverter Status,1048,1\n",
      "\n",
      "MinimalModbus debug mode. Writing to instrument (expecting 7 bytes back): '\\x02\\x04\\x04\\x17\\x00\\x01\\x80Í' (02 04 04 17 00 01 80 CD)\n",
      "MinimalModbus debug mode. No sleep required before write. Time since previous read: 14437.1 ms, minimum silent period: 4.01 ms.\n",
      "MinimalModbus debug mode. Response from instrument: '\\x02\\x04\\x02\\x00\\x00ý0' (02 04 02 00 00 FD 30) (7 bytes), roundtrip time: 19.1 ms. Timeout setting: 100.0 ms.\n",
      "\n",
      "2016-01-07 17:27:29,583 [DEBUG] pvi.h5.controller: 1st word value: 0\n",
      "2016-01-07 17:27:29,592 [DEBUG] pvi.h5.controller: reading register: Measurement Index,1056,1\n",
      "\n",
      "MinimalModbus debug mode. Writing to instrument (expecting 7 bytes back): '\\x02\\x04\\x04\\x1f\\x00\\x01\\x01\\x0f' (02 04 04 1F 00 01 01 0F)\n",
      "MinimalModbus debug mode. No sleep required before write. Time since previous read: 18.1 ms, minimum silent period: 4.01 ms.\n",
      "MinimalModbus debug mode. Response from instrument: '\\x02\\x04\\x02\\x00\\x00ý0' (02 04 02 00 00 FD 30) (7 bytes), roundtrip time: 18.7 ms. Timeout setting: 100.0 ms.\n",
      "\n",
      "2016-01-07 17:27:29,620 [DEBUG] pvi.h5.controller: 1st word value: 0\n",
      "2016-01-07 17:27:29,625 [DEBUG] pvi.h5.controller: reading register: Voltage,1057,1\n",
      "\n",
      "MinimalModbus debug mode. Writing to instrument (expecting 7 bytes back): '\\x02\\x04\\x04 \\x00\\x011\\x03' (02 04 04 20 00 01 31 03)\n",
      "MinimalModbus debug mode. No sleep required before write. Time since previous read: 14.7 ms, minimum silent period: 4.01 ms.\n",
      "MinimalModbus debug mode. Response from instrument: '\\x02\\x04\\x02\\x08àûx' (02 04 02 08 E0 FB 78) (7 bytes), roundtrip time: 18.4 ms. Timeout setting: 100.0 ms.\n",
      "\n",
      "2016-01-07 17:27:29,653 [DEBUG] pvi.h5.controller: 1st word value: 2272\n",
      "2016-01-07 17:27:29,658 [DEBUG] pvi.h5.controller: reading register: Current,1058,1\n",
      "\n",
      "MinimalModbus debug mode. Writing to instrument (expecting 7 bytes back): '\\x02\\x04\\x04!\\x00\\x01`Ã' (02 04 04 21 00 01 60 C3)\n",
      "MinimalModbus debug mode. No sleep required before write. Time since previous read: 14.1 ms, minimum silent period: 4.01 ms.\n",
      "MinimalModbus debug mode. Response from instrument: '\\x02\\x04\\x02\\x00\\x00ý0' (02 04 02 00 00 FD 30) (7 bytes), roundtrip time: 18.9 ms. Timeout setting: 100.0 ms.\n",
      "\n",
      "2016-01-07 17:27:29,686 [DEBUG] pvi.h5.controller: 1st word value: 0\n",
      "2016-01-07 17:27:29,691 [DEBUG] pvi.h5.controller: reading register: Wattage,1059,1\n",
      "\n",
      "MinimalModbus debug mode. Writing to instrument (expecting 7 bytes back): '\\x02\\x04\\x04\"\\x00\\x01\\x90Ã' (02 04 04 22 00 01 90 C3)\n",
      "MinimalModbus debug mode. No sleep required before write. Time since previous read: 14.6 ms, minimum silent period: 4.01 ms.\n",
      "MinimalModbus debug mode. Response from instrument: '\\x02\\x04\\x02\\x00\\x00ý0' (02 04 02 00 00 FD 30) (7 bytes), roundtrip time: 18.7 ms. Timeout setting: 100.0 ms.\n",
      "\n",
      "2016-01-07 17:27:29,720 [DEBUG] pvi.h5.controller: 1st word value: 0\n",
      "2016-01-07 17:27:29,725 [DEBUG] pvi.h5.controller: reading register: Frequency,1060,1\n",
      "\n",
      "MinimalModbus debug mode. Writing to instrument (expecting 7 bytes back): '\\x02\\x04\\x04#\\x00\\x01Á\\x03' (02 04 04 23 00 01 C1 03)\n",
      "MinimalModbus debug mode. No sleep required before write. Time since previous read: 14.5 ms, minimum silent period: 4.01 ms.\n",
      "MinimalModbus debug mode. Response from instrument: '\\x02\\x04\\x02\\x17tòç' (02 04 02 17 74 F2 E7) (7 bytes), roundtrip time: 18.8 ms. Timeout setting: 100.0 ms.\n",
      "\n",
      "2016-01-07 17:27:29,753 [DEBUG] pvi.h5.controller: 1st word value: 6004\n",
      "2016-01-07 17:27:29,758 [DEBUG] pvi.h5.controller: reading register: Percentage,1061,1\n",
      "\n",
      "MinimalModbus debug mode. Writing to instrument (expecting 7 bytes back): '\\x02\\x04\\x04$\\x00\\x01pÂ' (02 04 04 24 00 01 70 C2)\n",
      "MinimalModbus debug mode. No sleep required before write. Time since previous read: 14.3 ms, minimum silent period: 4.01 ms.\n",
      "MinimalModbus debug mode. Response from instrument: '\\x02\\x04\\x02\\x00\\x00ý0' (02 04 02 00 00 FD 30) (7 bytes), roundtrip time: 18.7 ms. Timeout setting: 100.0 ms.\n",
      "\n",
      "2016-01-07 17:27:29,786 [DEBUG] pvi.h5.controller: 1st word value: 0\n",
      "2016-01-07 17:27:29,791 [DEBUG] pvi.h5.controller: reading register: Redundant Voltage,1062,1\n",
      "\n",
      "MinimalModbus debug mode. Writing to instrument (expecting 7 bytes back): '\\x02\\x04\\x04%\\x00\\x01!\\x02' (02 04 04 25 00 01 21 02)\n",
      "MinimalModbus debug mode. No sleep required before write. Time since previous read: 13.9 ms, minimum silent period: 4.01 ms.\n",
      "MinimalModbus debug mode. Response from instrument: '\\x02\\x04\\x02\\x08àûx' (02 04 02 08 E0 FB 78) (7 bytes), roundtrip time: 19.1 ms. Timeout setting: 100.0 ms.\n",
      "\n",
      "2016-01-07 17:27:29,819 [DEBUG] pvi.h5.controller: 1st word value: 2272\n",
      "2016-01-07 17:27:29,824 [DEBUG] pvi.h5.controller: reading register: Redundant Frequency,1063,1\n",
      "\n",
      "MinimalModbus debug mode. Writing to instrument (expecting 7 bytes back): '\\x02\\x04\\x04&\\x00\\x01Ñ\\x02' (02 04 04 26 00 01 D1 02)\n",
      "MinimalModbus debug mode. No sleep required before write. Time since previous read: 14.1 ms, minimum silent period: 4.01 ms.\n",
      "MinimalModbus debug mode. Response from instrument: '\\x02\\x04\\x02\\x17s³%' (02 04 02 17 73 B3 25) (7 bytes), roundtrip time: 19.2 ms. Timeout setting: 100.0 ms.\n",
      "\n",
      "2016-01-07 17:27:29,853 [DEBUG] pvi.h5.controller: 1st word value: 6003\n",
      "2016-01-07 17:27:29,859 [DEBUG] pvi.h5.controller: reading register: Adc Voltage,1068,1\n",
      "\n",
      "MinimalModbus debug mode. Writing to instrument (expecting 7 bytes back): '\\x02\\x04\\x04+\\x00\\x01@Á' (02 04 04 2B 00 01 40 C1)\n",
      "MinimalModbus debug mode. No sleep required before write. Time since previous read: 16.2 ms, minimum silent period: 4.01 ms.\n",
      "MinimalModbus debug mode. Response from instrument: '\\x02\\x04\\x02\\x03ú}\\x83' (02 04 02 03 FA 7D 83) (7 bytes), roundtrip time: 18.1 ms. Timeout setting: 100.0 ms.\n",
      "\n",
      "2016-01-07 17:27:29,887 [DEBUG] pvi.h5.controller: 1st word value: 1018\n",
      "2016-01-07 17:27:29,892 [DEBUG] pvi.h5.controller: reading register: Adc Current,1069,1\n",
      "\n",
      "MinimalModbus debug mode. Writing to instrument (expecting 7 bytes back): '\\x02\\x04\\x04,\\x00\\x01ñ\\x00' (02 04 04 2C 00 01 F1 00)\n",
      "MinimalModbus debug mode. No sleep required before write. Time since previous read: 14.9 ms, minimum silent period: 4.01 ms.\n",
      "MinimalModbus debug mode. Response from instrument: '\\x02\\x04\\x02\\x00\\x01<ð' (02 04 02 00 01 3C F0) (7 bytes), roundtrip time: 18.2 ms. Timeout setting: 100.0 ms.\n",
      "\n",
      "2016-01-07 17:27:29,921 [DEBUG] pvi.h5.controller: 1st word value: 1\n",
      "2016-01-07 17:27:29,926 [DEBUG] pvi.h5.controller: reading register: Adc Wattage,1070,1\n",
      "\n",
      "MinimalModbus debug mode. Writing to instrument (expecting 7 bytes back): '\\x02\\x04\\x04-\\x00\\x01\\xa0À' (02 04 04 2D 00 01 A0 C0)\n",
      "MinimalModbus debug mode. No sleep required before write. Time since previous read: 14.1 ms, minimum silent period: 4.01 ms.\n",
      "MinimalModbus debug mode. Response from instrument: '\\x02\\x04\\x02\\x00\\x00ý0' (02 04 02 00 00 FD 30) (7 bytes), roundtrip time: 22.0 ms. Timeout setting: 100.0 ms.\n",
      "\n",
      "2016-01-07 17:27:29,957 [DEBUG] pvi.h5.controller: 1st word value: 0\n",
      "2016-01-07 17:27:29,971 [DEBUG] pvi.h5.controller: reading register: Adc Redundant Voltage,1071,1\n",
      "\n",
      "MinimalModbus debug mode. Writing to instrument (expecting 7 bytes back): '\\x02\\x04\\x04.\\x00\\x01PÀ' (02 04 04 2E 00 01 50 C0)\n",
      "MinimalModbus debug mode. No sleep required before write. Time since previous read: 23.5 ms, minimum silent period: 4.01 ms.\n",
      "MinimalModbus debug mode. Response from instrument: '\\x02\\x04\\x02\\x03\\x97¼n' (02 04 02 03 97 BC 6E) (7 bytes), roundtrip time: 18.0 ms. Timeout setting: 100.0 ms.\n",
      "\n",
      "2016-01-07 17:27:29,999 [DEBUG] pvi.h5.controller: 1st word value: 919\n",
      "2016-01-07 17:27:30,010 [DEBUG] pvi.h5.controller: reading register: Today Wh,1072,2\n",
      "\n",
      "MinimalModbus debug mode. Writing to instrument (expecting 7 bytes back): '\\x02\\x04\\x04/\\x00\\x01\\x01\\x00' (02 04 04 2F 00 01 01 00)\n",
      "MinimalModbus debug mode. No sleep required before write. Time since previous read: 24.8 ms, minimum silent period: 4.01 ms.\n",
      "MinimalModbus debug mode. Response from instrument: '\\x02\\x04\\x02\\x01Q=\\\\' (02 04 02 01 51 3D 5C) (7 bytes), roundtrip time: 18.4 ms. Timeout setting: 100.0 ms.\n",
      "\n",
      "2016-01-07 17:27:30,042 [DEBUG] pvi.h5.controller: 1st word value: 337\n",
      "\n",
      "MinimalModbus debug mode. Writing to instrument (expecting 7 bytes back): '\\x02\\x04\\x040\\x00\\x010Æ' (02 04 04 30 00 01 30 C6)\n",
      "MinimalModbus debug mode. No sleep required before write. Time since previous read: 9.4 ms, minimum silent period: 4.01 ms.\n",
      "MinimalModbus debug mode. Response from instrument: '\\x02\\x04\\x02\\x00\\x00ý0' (02 04 02 00 00 FD 30) (7 bytes), roundtrip time: 18.7 ms. Timeout setting: 100.0 ms.\n",
      "\n",
      "2016-01-07 17:27:30,070 [DEBUG] pvi.h5.controller: reading register: Today Runtime,1074,2\n",
      "\n",
      "MinimalModbus debug mode. Writing to instrument (expecting 7 bytes back): '\\x02\\x04\\x041\\x00\\x01a\\x06' (02 04 04 31 00 01 61 06)\n",
      "MinimalModbus debug mode. No sleep required before write. Time since previous read: 11.1 ms, minimum silent period: 4.01 ms.\n",
      "MinimalModbus debug mode. Response from instrument: '\\x02\\x04\\x02\\x8d×Ø>' (02 04 02 8D D7 D8 3E) (7 bytes), roundtrip time: 18.4 ms. Timeout setting: 100.0 ms.\n",
      "\n",
      "2016-01-07 17:27:30,100 [DEBUG] pvi.h5.controller: 1st word value: 36311\n",
      "\n",
      "MinimalModbus debug mode. Writing to instrument (expecting 7 bytes back): '\\x02\\x04\\x042\\x00\\x01\\x91\\x06' (02 04 04 32 00 01 91 06)\n",
      "MinimalModbus debug mode. No sleep required before write. Time since previous read: 11.9 ms, minimum silent period: 4.01 ms.\n",
      "MinimalModbus debug mode. Response from instrument: '\\x02\\x04\\x02\\x00\\x00ý0' (02 04 02 00 00 FD 30) (7 bytes), roundtrip time: 18.7 ms. Timeout setting: 100.0 ms.\n",
      "\n",
      "2016-01-07 17:27:30,131 [DEBUG] pvi.h5.controller: reading register: DC Life Wh,1076,2\n",
      "\n",
      "MinimalModbus debug mode. Writing to instrument (expecting 7 bytes back): '\\x02\\x04\\x043\\x00\\x01ÀÆ' (02 04 04 33 00 01 C0 C6)\n",
      "MinimalModbus debug mode. No sleep required before write. Time since previous read: 10.5 ms, minimum silent period: 4.01 ms.\n",
      "MinimalModbus debug mode. Response from instrument: '\\x02\\x04\\x02\\x15¦sÚ' (02 04 02 15 A6 73 DA) (7 bytes), roundtrip time: 19.0 ms. Timeout setting: 100.0 ms.\n",
      "\n",
      "2016-01-07 17:27:30,160 [DEBUG] pvi.h5.controller: 1st word value: 5542\n",
      "\n",
      "MinimalModbus debug mode. Writing to instrument (expecting 7 bytes back): '\\x02\\x04\\x044\\x00\\x01q\\x07' (02 04 04 34 00 01 71 07)\n",
      "MinimalModbus debug mode. No sleep required before write. Time since previous read: 9.7 ms, minimum silent period: 4.01 ms.\n",
      "MinimalModbus debug mode. Response from instrument: '\\x02\\x04\\x02\\x00\\x04üó' (02 04 02 00 04 FC F3) (7 bytes), roundtrip time: 18.3 ms. Timeout setting: 100.0 ms.\n",
      "\n",
      "2016-01-07 17:27:30,188 [DEBUG] pvi.h5.controller: reading register: DC Life Runtime,1078,2\n",
      "\n",
      "MinimalModbus debug mode. Writing to instrument (expecting 7 bytes back): '\\x02\\x04\\x045\\x00\\x01 Ç' (02 04 04 35 00 01 20 C7)\n",
      "MinimalModbus debug mode. No sleep required before write. Time since previous read: 10.6 ms, minimum silent period: 4.01 ms.\n",
      "MinimalModbus debug mode. Response from instrument: '\\x02\\x04\\x02×;ã\\x13' (02 04 02 D7 3B E3 13) (7 bytes), roundtrip time: 18.8 ms. Timeout setting: 100.0 ms.\n",
      "\n",
      "2016-01-07 17:27:30,218 [DEBUG] pvi.h5.controller: 1st word value: 55099\n",
      "\n",
      "MinimalModbus debug mode. Writing to instrument (expecting 7 bytes back): '\\x02\\x04\\x046\\x00\\x01ÐÇ' (02 04 04 36 00 01 D0 C7)\n",
      "MinimalModbus debug mode. No sleep required before write. Time since previous read: 9.7 ms, minimum silent period: 4.01 ms.\n",
      "MinimalModbus debug mode. Response from instrument: '\\x02\\x04\\x02\\x00\\x83¼\\x91' (02 04 02 00 83 BC 91) (7 bytes), roundtrip time: 18.5 ms. Timeout setting: 100.0 ms.\n",
      "\n",
      "[['Inverter Status', 0], ['Measurement Index', 0], ['Voltage', 2272], ['Current', 0], ['Wattage', 0], ['Frequency', 6004], ['Percentage', 0], ['Redundant Voltage', 2272], ['Redundant Frequency', 6003], ['Adc Voltage', 1018], ['Adc Current', 1], ['Adc Wattage', 0], ['Adc Redundant Voltage', 919], ['Today Wh', 337], ['Today Runtime', 36311], ['DC Life Wh', 267686], ['DC Life Runtime', 8640315]]\n"
     ]
    }
   ],
   "source": [
    "print(h5_controller.get_polling_input_register_value())"
   ]
  },
  {
   "cell_type": "code",
   "execution_count": null,
   "metadata": {
    "collapsed": true
   },
   "outputs": [],
   "source": []
  }
 ],
 "metadata": {
  "kernelspec": {
   "display_name": "Python 3",
   "language": "python",
   "name": "python3"
  },
  "language_info": {
   "codemirror_mode": {
    "name": "ipython",
    "version": 3
   },
   "file_extension": ".py",
   "mimetype": "text/x-python",
   "name": "python",
   "nbconvert_exporter": "python",
   "pygments_lexer": "ipython3",
   "version": "3.4.2"
  }
 },
 "nbformat": 4,
 "nbformat_minor": 0
}
