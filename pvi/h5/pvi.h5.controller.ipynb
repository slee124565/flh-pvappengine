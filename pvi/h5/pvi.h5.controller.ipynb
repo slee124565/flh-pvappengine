{
 "cells": [
  {
   "cell_type": "markdown",
   "metadata": {},
   "source": [
    "# pvi.h5.controller module development"
   ]
  },
  {
   "cell_type": "code",
   "execution_count": 1,
   "metadata": {
    "collapsed": true
   },
   "outputs": [],
   "source": [
    "import os, sys, django"
   ]
  },
  {
   "cell_type": "code",
   "execution_count": 2,
   "metadata": {
    "collapsed": false
   },
   "outputs": [],
   "source": [
    "sys.path.append(os.path.dirname(os.path.dirname(os.getcwd())))\n",
    "os.environ['DJANGO_SETTINGS_MODULE'] = 'pvappengine.settings'\n",
    "django.setup()"
   ]
  },
  {
   "cell_type": "code",
   "execution_count": 3,
   "metadata": {
    "collapsed": false
   },
   "outputs": [
    {
     "name": "stdout",
     "output_type": "stream",
     "text": [
      "2016-01-13 16:07:59,932 [WARNING] pvi.h5.controller: pvi connection is not exist! enter simulation mode\n"
     ]
    }
   ],
   "source": [
    "from pvi.h5 import controller"
   ]
  },
  {
   "cell_type": "markdown",
   "metadata": {},
   "source": [
    "#### start revise pvi_query_info_energy_hourly_list function test"
   ]
  },
  {
   "cell_type": "code",
   "execution_count": 4,
   "metadata": {
    "collapsed": false
   },
   "outputs": [
    {
     "name": "stdout",
     "output_type": "stream",
     "text": [
      "2016-01-13 16:08:01,618 [DEBUG] pvi.h5.controller: sql cmd: SELECT \"pvi_regdata\".\"prob_date\", \"pvi_regdata\".\"prob_hour\", MAX(\"pvi_regdata\".\"value\") AS \"value__max\" FROM \"pvi_regdata\" WHERE \"pvi_regdata\".\"address\" = 1072 GROUP BY \"pvi_regdata\".\"prob_date\", \"pvi_regdata\".\"prob_hour\" ORDER BY \"pvi_regdata\".\"prob_date\" DESC, \"pvi_regdata\".\"prob_hour\" DESC\n",
      "2016-01-13 16:08:01,636 [DEBUG] pvi.h5.controller: queryset count 443\n",
      "2016-01-13 16:08:01,664 [DEBUG] pvi.h5.controller: query return:\n",
      "[[datetime.datetime(2016, 1, 10, 10, 0), 189], [datetime.datetime(2016, 1, 10, 9, 0), 130], [datetime.datetime(2016, 1, 10, 8, 0), 48], [datetime.datetime(2016, 1, 10, 7, 0), 5], [datetime.datetime(2016, 1, 10, 6, 0), 0], [datetime.datetime(2016, 1, 10, 5, 0), 0], [datetime.datetime(2016, 1, 10, 4, 0), 0], [datetime.datetime(2016, 1, 10, 3, 0), 0], [datetime.datetime(2016, 1, 10, 2, 0), 0], [datetime.datetime(2016, 1, 10, 1, 0), 0], [datetime.datetime(2016, 1, 9, 22, 0), 1512], [datetime.datetime(2016, 1, 9, 21, 0), 1512], [datetime.datetime(2016, 1, 9, 20, 0), 1512], [datetime.datetime(2016, 1, 9, 19, 0), 1512], [datetime.datetime(2016, 1, 9, 18, 0), 1512], [datetime.datetime(2016, 1, 9, 17, 0), 1512], [datetime.datetime(2016, 1, 9, 16, 0), 1512], [datetime.datetime(2016, 1, 9, 15, 0), 1492], [datetime.datetime(2016, 1, 9, 14, 0), 1437], [datetime.datetime(2016, 1, 9, 13, 0), 1207], [datetime.datetime(2016, 1, 9, 12, 0), 895], [datetime.datetime(2016, 1, 9, 11, 0), 560], [datetime.datetime(2016, 1, 9, 10, 0), 266], [datetime.datetime(2016, 1, 9, 9, 0), 93], [datetime.datetime(2016, 1, 9, 8, 0), 27], [datetime.datetime(2016, 1, 9, 7, 0), 2], [datetime.datetime(2016, 1, 9, 6, 0), 0], [datetime.datetime(2016, 1, 9, 5, 0), 0], [datetime.datetime(2016, 1, 9, 4, 0), 0], [datetime.datetime(2016, 1, 9, 3, 0), 0], [datetime.datetime(2016, 1, 9, 2, 0), 0], [datetime.datetime(2016, 1, 9, 1, 0), 0], [datetime.datetime(2016, 1, 8, 22, 0), 179], [datetime.datetime(2016, 1, 8, 21, 0), 179], [datetime.datetime(2016, 1, 8, 20, 0), 179], [datetime.datetime(2016, 1, 8, 19, 0), 179], [datetime.datetime(2016, 1, 8, 18, 0), 179], [datetime.datetime(2016, 1, 8, 17, 0), 179], [datetime.datetime(2016, 1, 8, 16, 0), 179], [datetime.datetime(2016, 1, 8, 15, 0), 175], [datetime.datetime(2016, 1, 8, 14, 0), 171], [datetime.datetime(2016, 1, 8, 13, 0), 160], [datetime.datetime(2016, 1, 8, 12, 0), 149], [datetime.datetime(2016, 1, 8, 11, 0), 139], [datetime.datetime(2016, 1, 8, 10, 0), 120], [datetime.datetime(2016, 1, 8, 9, 0), 44], [datetime.datetime(2016, 1, 8, 8, 0), 14], [datetime.datetime(2016, 1, 8, 7, 0), 1], [datetime.datetime(2016, 1, 8, 6, 0), 0]]\n",
      "2016-01-13 16:08:01,666 [DEBUG] pvi.h5.controller: [[datetime.datetime(2016, 1, 8, 6, 0), 0], [datetime.datetime(2016, 1, 8, 7, 0), 10], [datetime.datetime(2016, 1, 8, 8, 0), 140], [datetime.datetime(2016, 1, 8, 9, 0), 440], [datetime.datetime(2016, 1, 8, 10, 0), 1200], [datetime.datetime(2016, 1, 8, 11, 0), 1390], [datetime.datetime(2016, 1, 8, 12, 0), 1490], [datetime.datetime(2016, 1, 8, 13, 0), 1600], [datetime.datetime(2016, 1, 8, 14, 0), 1710], [datetime.datetime(2016, 1, 8, 15, 0), 1750]]\n",
      "2016-01-13 16:08:01,667 [DEBUG] pvi.h5.controller: [[datetime.datetime(2016, 1, 10, 10, 0), 1890], [datetime.datetime(2016, 1, 10, 9, 0), 1300], [datetime.datetime(2016, 1, 10, 8, 0), 480], [datetime.datetime(2016, 1, 10, 7, 0), 50], [datetime.datetime(2016, 1, 10, 6, 0), 0], [datetime.datetime(2016, 1, 10, 5, 0), 0], [datetime.datetime(2016, 1, 10, 4, 0), 0], [datetime.datetime(2016, 1, 10, 3, 0), 0], [datetime.datetime(2016, 1, 10, 2, 0), 0], [datetime.datetime(2016, 1, 10, 1, 0), 0]]\n",
      "2016-01-13 16:08:01,669 [DEBUG] pvi.h5.controller: [[datetime.datetime(2016, 1, 10, 10, 0), 1890], [datetime.datetime(2016, 1, 10, 9, 0), 1300], [datetime.datetime(2016, 1, 10, 8, 0), 480], [datetime.datetime(2016, 1, 10, 7, 0), 50], [datetime.datetime(2016, 1, 10, 6, 0), 0], [datetime.datetime(2016, 1, 10, 5, 0), 0], [datetime.datetime(2016, 1, 10, 4, 0), 0], [datetime.datetime(2016, 1, 10, 3, 0), 0], [datetime.datetime(2016, 1, 10, 2, 0), 0], [datetime.datetime(2016, 1, 10, 1, 0), 0]]\n",
      "[datetime.datetime(2016, 1, 8, 8, 0), 130]\n",
      "[datetime.datetime(2016, 1, 8, 9, 0), 300]\n",
      "[datetime.datetime(2016, 1, 8, 10, 0), 760]\n",
      "[datetime.datetime(2016, 1, 8, 11, 0), 190]\n",
      "[datetime.datetime(2016, 1, 8, 12, 0), 100]\n",
      "[datetime.datetime(2016, 1, 8, 13, 0), 110]\n",
      "[datetime.datetime(2016, 1, 8, 14, 0), 110]\n",
      "[datetime.datetime(2016, 1, 8, 15, 0), 40]\n",
      "[datetime.datetime(2016, 1, 8, 16, 0), 40]\n",
      "[datetime.datetime(2016, 1, 8, 17, 0), 0]\n",
      "[datetime.datetime(2016, 1, 8, 18, 0), 0]\n",
      "[datetime.datetime(2016, 1, 8, 19, 0), 0]\n",
      "[datetime.datetime(2016, 1, 8, 20, 0), 0]\n",
      "[datetime.datetime(2016, 1, 8, 21, 0), 0]\n",
      "[datetime.datetime(2016, 1, 8, 22, 0), 0]\n",
      "[datetime.datetime(2016, 1, 9, 2, 0), 0]\n",
      "[datetime.datetime(2016, 1, 9, 3, 0), 0]\n",
      "[datetime.datetime(2016, 1, 9, 4, 0), 0]\n",
      "[datetime.datetime(2016, 1, 9, 5, 0), 0]\n",
      "[datetime.datetime(2016, 1, 9, 6, 0), 0]\n",
      "[datetime.datetime(2016, 1, 9, 7, 0), 20]\n",
      "[datetime.datetime(2016, 1, 9, 8, 0), 250]\n",
      "[datetime.datetime(2016, 1, 9, 9, 0), 660]\n",
      "[datetime.datetime(2016, 1, 9, 10, 0), 1730]\n",
      "[datetime.datetime(2016, 1, 9, 11, 0), 2940]\n",
      "[datetime.datetime(2016, 1, 9, 12, 0), 3350]\n",
      "[datetime.datetime(2016, 1, 9, 13, 0), 3120]\n",
      "[datetime.datetime(2016, 1, 9, 14, 0), 2300]\n",
      "[datetime.datetime(2016, 1, 9, 15, 0), 550]\n",
      "[datetime.datetime(2016, 1, 9, 16, 0), 200]\n",
      "[datetime.datetime(2016, 1, 9, 17, 0), 0]\n",
      "[datetime.datetime(2016, 1, 9, 18, 0), 0]\n",
      "[datetime.datetime(2016, 1, 9, 19, 0), 0]\n",
      "[datetime.datetime(2016, 1, 9, 20, 0), 0]\n",
      "[datetime.datetime(2016, 1, 9, 21, 0), 0]\n",
      "[datetime.datetime(2016, 1, 9, 22, 0), 0]\n",
      "[datetime.datetime(2016, 1, 10, 2, 0), 0]\n",
      "[datetime.datetime(2016, 1, 10, 3, 0), 0]\n",
      "[datetime.datetime(2016, 1, 10, 4, 0), 0]\n",
      "[datetime.datetime(2016, 1, 10, 5, 0), 0]\n",
      "[datetime.datetime(2016, 1, 10, 6, 0), 0]\n",
      "[datetime.datetime(2016, 1, 10, 7, 0), 50]\n",
      "[datetime.datetime(2016, 1, 10, 8, 0), 430]\n",
      "[datetime.datetime(2016, 1, 10, 9, 0), 820]\n",
      "[datetime.datetime(2016, 1, 10, 10, 0), 590]\n"
     ]
    }
   ],
   "source": [
    "dataset = controller.pvi_query_info_energy_hourly_list()\n",
    "for entry in dataset:\n",
    "    print(entry)"
   ]
  },
  {
   "cell_type": "code",
   "execution_count": null,
   "metadata": {
    "collapsed": false
   },
   "outputs": [],
   "source": [
    "for entry in dataset:\n",
    "    print(entry)"
   ]
  },
  {
   "cell_type": "code",
   "execution_count": null,
   "metadata": {
    "collapsed": false
   },
   "outputs": [],
   "source": [
    "newset = [[dataset[i][0],dataset[i][1]-dataset[i+1][1]] for i in range(len(dataset)-2) if dataset[i][0].date() == dataset[i+1][0].date()]\n",
    "for entry in newset:\n",
    "    print(entry)"
   ]
  },
  {
   "cell_type": "code",
   "execution_count": null,
   "metadata": {
    "collapsed": true
   },
   "outputs": [],
   "source": []
  }
 ],
 "metadata": {
  "kernelspec": {
   "display_name": "Python 3",
   "language": "python",
   "name": "python3"
  },
  "language_info": {
   "codemirror_mode": {
    "name": "ipython",
    "version": 3
   },
   "file_extension": ".py",
   "mimetype": "text/x-python",
   "name": "python",
   "nbconvert_exporter": "python",
   "pygments_lexer": "ipython3",
   "version": "3.5.1"
  }
 },
 "nbformat": 4,
 "nbformat_minor": 0
}
