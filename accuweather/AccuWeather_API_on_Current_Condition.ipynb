{
 "cells": [
  {
   "cell_type": "markdown",
   "metadata": {},
   "source": [
    "# Use Python urllib Open AccuWeather API"
   ]
  },
  {
   "cell_type": "code",
   "execution_count": 1,
   "metadata": {
    "collapsed": true
   },
   "outputs": [],
   "source": [
    "import urllib.request, json"
   ]
  },
  {
   "cell_type": "code",
   "execution_count": 2,
   "metadata": {
    "collapsed": true
   },
   "outputs": [],
   "source": [
    "url = 'http://api.accuweather.com/currentconditions/v1/3-315078_1_AL.json?apikey=ff1b463d98fb47af848ea2843ec5c925&language=zh-tw&details=true'"
   ]
  },
  {
   "cell_type": "code",
   "execution_count": 3,
   "metadata": {
    "collapsed": false
   },
   "outputs": [
    {
     "name": "stdout",
     "output_type": "stream",
     "text": [
      "[{'PressureTendency': {'LocalizedText': '上升中', 'Code': 'R'}, 'Visibility': {'Imperial': {'UnitType': 2, 'Unit': 'mi', 'Value': 10.0}, 'Metric': {'UnitType': 6, 'Unit': 'km', 'Value': 16.1}}, 'LocalObservationDateTime': '2016-01-09T16:55:00+08:00', 'MobileLink': 'http://m.accuweather.com/zh/tw/taipei-city/315078/current-weather/315078?lang=zh-tw', 'Pressure': {'Imperial': {'UnitType': 12, 'Unit': 'inHg', 'Value': 30.12}, 'Metric': {'UnitType': 14, 'Unit': 'mb', 'Value': 1020.0}}, 'Precip1hr': {'Imperial': {'UnitType': 1, 'Unit': 'in', 'Value': 0.0}, 'Metric': {'UnitType': 3, 'Unit': 'mm', 'Value': 0.0}}, 'TemperatureSummary': {'Past6HourRange': {'Maximum': {'Imperial': {'UnitType': 18, 'Unit': 'F', 'Value': 67.0}, 'Metric': {'UnitType': 17, 'Unit': 'C', 'Value': 19.7}}, 'Minimum': {'Imperial': {'UnitType': 18, 'Unit': 'F', 'Value': 64.0}, 'Metric': {'UnitType': 17, 'Unit': 'C', 'Value': 17.8}}}, 'Past12HourRange': {'Maximum': {'Imperial': {'UnitType': 18, 'Unit': 'F', 'Value': 67.0}, 'Metric': {'UnitType': 17, 'Unit': 'C', 'Value': 19.7}}, 'Minimum': {'Imperial': {'UnitType': 18, 'Unit': 'F', 'Value': 59.0}, 'Metric': {'UnitType': 17, 'Unit': 'C', 'Value': 14.8}}}, 'Past24HourRange': {'Maximum': {'Imperial': {'UnitType': 18, 'Unit': 'F', 'Value': 67.0}, 'Metric': {'UnitType': 17, 'Unit': 'C', 'Value': 19.7}}, 'Minimum': {'Imperial': {'UnitType': 18, 'Unit': 'F', 'Value': 57.0}, 'Metric': {'UnitType': 17, 'Unit': 'C', 'Value': 14.0}}}}, 'RealFeelTemperatureShade': {'Imperial': {'UnitType': 18, 'Unit': 'F', 'Value': 59.0}, 'Metric': {'UnitType': 17, 'Unit': 'C', 'Value': 14.8}}, 'Ceiling': {'Imperial': {'UnitType': 0, 'Unit': 'ft', 'Value': 39960.0}, 'Metric': {'UnitType': 5, 'Unit': 'm', 'Value': 12180.0}}, 'UVIndexText': '低', 'ApparentTemperature': {'Imperial': {'UnitType': 18, 'Unit': 'F', 'Value': 65.0}, 'Metric': {'UnitType': 17, 'Unit': 'C', 'Value': 18.3}}, 'WindGust': {'Speed': {'Imperial': {'UnitType': 9, 'Unit': 'mi/h', 'Value': 18.4}, 'Metric': {'UnitType': 7, 'Unit': 'km/h', 'Value': 29.6}}}, 'PrecipitationSummary': {'Past12Hours': {'Imperial': {'UnitType': 1, 'Unit': 'in', 'Value': 0.0}, 'Metric': {'UnitType': 3, 'Unit': 'mm', 'Value': 0.0}}, 'Past24Hours': {'Imperial': {'UnitType': 1, 'Unit': 'in', 'Value': 0.0}, 'Metric': {'UnitType': 3, 'Unit': 'mm', 'Value': 0.0}}, 'Past6Hours': {'Imperial': {'UnitType': 1, 'Unit': 'in', 'Value': 0.0}, 'Metric': {'UnitType': 3, 'Unit': 'mm', 'Value': 0.0}}, 'Past18Hours': {'Imperial': {'UnitType': 1, 'Unit': 'in', 'Value': 0.0}, 'Metric': {'UnitType': 3, 'Unit': 'mm', 'Value': 0.0}}, 'PastHour': {'Imperial': {'UnitType': 1, 'Unit': 'in', 'Value': 0.0}, 'Metric': {'UnitType': 3, 'Unit': 'mm', 'Value': 0.0}}, 'Past9Hours': {'Imperial': {'UnitType': 1, 'Unit': 'in', 'Value': 0.0}, 'Metric': {'UnitType': 3, 'Unit': 'mm', 'Value': 0.0}}, 'Precipitation': {'Imperial': {'UnitType': 1, 'Unit': 'in', 'Value': 0.0}, 'Metric': {'UnitType': 3, 'Unit': 'mm', 'Value': 0.0}}, 'Past3Hours': {'Imperial': {'UnitType': 1, 'Unit': 'in', 'Value': 0.0}, 'Metric': {'UnitType': 3, 'Unit': 'mm', 'Value': 0.0}}}, 'WetBulbTemperature': {'Imperial': {'UnitType': 18, 'Unit': 'F', 'Value': 60.0}, 'Metric': {'UnitType': 17, 'Unit': 'C', 'Value': 15.5}}, 'UVIndex': 1, 'Temperature': {'Imperial': {'UnitType': 18, 'Unit': 'F', 'Value': 64.0}, 'Metric': {'UnitType': 17, 'Unit': 'C', 'Value': 17.8}}, 'WeatherIcon': 3, 'EpochTime': 1452329700, 'DewPoint': {'Imperial': {'UnitType': 18, 'Unit': 'F', 'Value': 57.0}, 'Metric': {'UnitType': 17, 'Unit': 'C', 'Value': 13.9}}, 'Link': 'http://www.accuweather.com/zh/tw/taipei-city/315078/current-weather/315078?lang=zh-tw', 'RelativeHumidity': 77, 'IsDayTime': True, 'RealFeelTemperature': {'Imperial': {'UnitType': 18, 'Unit': 'F', 'Value': 59.0}, 'Metric': {'UnitType': 17, 'Unit': 'C', 'Value': 15.2}}, 'Wind': {'Speed': {'Imperial': {'UnitType': 9, 'Unit': 'mi/h', 'Value': 18.4}, 'Metric': {'UnitType': 7, 'Unit': 'km/h', 'Value': 29.6}}, 'Direction': {'Localized': '東北', 'Degrees': 45, 'English': 'NE'}}, 'ObstructionsToVisibility': '', 'WindChillTemperature': {'Imperial': {'UnitType': 18, 'Unit': 'F', 'Value': 64.0}, 'Metric': {'UnitType': 17, 'Unit': 'C', 'Value': 17.8}}, 'WeatherText': '多雲時晴', 'CloudCover': 40, 'Past24HourTemperatureDeparture': {'Imperial': {'UnitType': 18, 'Unit': 'F', 'Value': 1.0}, 'Metric': {'UnitType': 17, 'Unit': 'C', 'Value': 0.6}}}]\n"
     ]
    }
   ],
   "source": [
    "with urllib.request.urlopen(url) as reader:\n",
    "    curr_weather = json.loads(reader.read().decode('utf-8'))\n",
    "    print(curr_weather)"
   ]
  },
  {
   "cell_type": "code",
   "execution_count": 4,
   "metadata": {
    "collapsed": false
   },
   "outputs": [
    {
     "name": "stdout",
     "output_type": "stream",
     "text": [
      "{'Imperial': {'UnitType': 18, 'Unit': 'F', 'Value': 65.0}, 'Metric': {'UnitType': 17, 'Unit': 'C', 'Value': 18.3}}\n",
      "{'UnitType': 17, 'Unit': 'C', 'Value': 18.3}\n",
      "18.3\n",
      "1\n"
     ]
    }
   ],
   "source": [
    "print(curr_weather[0]['ApparentTemperature'])\n",
    "print(curr_weather[0]['ApparentTemperature']['Metric'])\n",
    "print(curr_weather[0]['ApparentTemperature']['Metric']['Value'])\n",
    "print(curr_weather[0]['UVIndex'])"
   ]
  },
  {
   "cell_type": "code",
   "execution_count": 5,
   "metadata": {
    "collapsed": false
   },
   "outputs": [
    {
     "name": "stdout",
     "output_type": "stream",
     "text": [
      "16.1\n",
      "{\n",
      "    \"Imperial\": {\n",
      "        \"UnitType\": 2,\n",
      "        \"Unit\": \"mi\",\n",
      "        \"Value\": 10.0\n",
      "    },\n",
      "    \"Metric\": {\n",
      "        \"UnitType\": 6,\n",
      "        \"Unit\": \"km\",\n",
      "        \"Value\": 16.1\n",
      "    }\n",
      "}\n"
     ]
    }
   ],
   "source": [
    "print(curr_weather[0]['Visibility']['Metric']['Value'])\n",
    "print(json.dumps(curr_weather[0]['Visibility'],indent=4))"
   ]
  },
  {
   "cell_type": "code",
   "execution_count": null,
   "metadata": {
    "collapsed": false
   },
   "outputs": [],
   "source": [
    "print(json.dumps(curr_weather,indent=4))"
   ]
  }
 ],
 "metadata": {
  "kernelspec": {
   "display_name": "Python 3",
   "language": "python",
   "name": "python3"
  },
  "language_info": {
   "codemirror_mode": {
    "name": "ipython",
    "version": 3
   },
   "file_extension": ".py",
   "mimetype": "text/x-python",
   "name": "python",
   "nbconvert_exporter": "python",
   "pygments_lexer": "ipython3",
   "version": "3.5.1"
  }
 },
 "nbformat": 4,
 "nbformat_minor": 0
}
