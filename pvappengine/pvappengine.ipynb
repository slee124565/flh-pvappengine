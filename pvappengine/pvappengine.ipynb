{
 "cells": [
  {
   "cell_type": "markdown",
   "metadata": {},
   "source": [
    "## pvappengine module test"
   ]
  },
  {
   "cell_type": "markdown",
   "metadata": {},
   "source": [
    "#### environment setup"
   ]
  },
  {
   "cell_type": "code",
   "execution_count": 1,
   "metadata": {
    "collapsed": true
   },
   "outputs": [],
   "source": [
    "import os, sys, django\n",
    "sys.path.append(os.path.dirname(os.getcwd()))\n",
    "os.environ['DJANGO_SETTINGS_MODULE'] = 'pvappengine.settings'\n",
    "django.setup()\n",
    "import pvappengine"
   ]
  },
  {
   "cell_type": "markdown",
   "metadata": {},
   "source": [
    "#### check module dbconfig"
   ]
  },
  {
   "cell_type": "code",
   "execution_count": 2,
   "metadata": {
    "collapsed": false
   },
   "outputs": [
    {
     "name": "stdout",
     "output_type": "stream",
     "text": [
      "H5\n"
     ]
    }
   ],
   "source": [
    "from dbconfig.views import get_app_json_db_config\n",
    "db_config = get_app_json_db_config('pvi', pvappengine.DEFAULT_DB_CONFIG)\n",
    "for entry in db_config:\n",
    "    print (entry['name'])"
   ]
  },
  {
   "cell_type": "markdown",
   "metadata": {},
   "source": [
    "#### test pvappengine.http_api.get_pvi_list_from_settings"
   ]
  },
  {
   "cell_type": "code",
   "execution_count": 3,
   "metadata": {
    "collapsed": false
   },
   "outputs": [
    {
     "name": "stdout",
     "output_type": "stream",
     "text": [
      "2016-03-02 18:07:25,146 [INFO] pvi.h5.controller: pvs[0] meta: {'name': 'H5', 'serial': {'bytesize': 8, 'baudrate': 9600, 'parity': 'N', 'timeout': 0.1, 'stopbits': 1, 'port': '/dev/ttyUSB0'}, 'modbus_id': 2, 'type': 'DELTA_PRI_H5'}\n",
      "2016-03-02 18:07:25,150 [WARNING] pvi.h5.controller: pvi connection is not exist! enter simulation mode\n"
     ]
    },
    {
     "data": {
      "text/plain": [
       "['H5']"
      ]
     },
     "execution_count": 3,
     "metadata": {},
     "output_type": "execute_result"
    }
   ],
   "source": [
    "from pvappengine.http_api import get_pvi_list_from_settings\n",
    "pvis = get_pvi_list_from_settings()\n",
    "pvis"
   ]
  },
  {
   "cell_type": "markdown",
   "metadata": {},
   "source": [
    "#### test pvappengine.http_api.get_pvi_type"
   ]
  },
  {
   "cell_type": "code",
   "execution_count": 7,
   "metadata": {
    "collapsed": false
   },
   "outputs": [
    {
     "name": "stdout",
     "output_type": "stream",
     "text": [
      "H5 PVIType.Delta_PRI_H5\n"
     ]
    }
   ],
   "source": [
    "from pvappengine.http_api import get_pvi_type\n",
    "for pvi_name in pvis:\n",
    "    print(pvi_name,get_pvi_type(pvi_name))"
   ]
  },
  {
   "cell_type": "code",
   "execution_count": null,
   "metadata": {
    "collapsed": true
   },
   "outputs": [],
   "source": []
  }
 ],
 "metadata": {
  "kernelspec": {
   "display_name": "Python 3",
   "language": "python",
   "name": "python3"
  },
  "language_info": {
   "codemirror_mode": {
    "name": "ipython",
    "version": 3
   },
   "file_extension": ".py",
   "mimetype": "text/x-python",
   "name": "python",
   "nbconvert_exporter": "python",
   "pygments_lexer": "ipython3",
   "version": "3.5.1"
  }
 },
 "nbformat": 4,
 "nbformat_minor": 0
}
