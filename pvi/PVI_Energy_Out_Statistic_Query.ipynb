{
 "cells": [
  {
   "cell_type": "markdown",
   "metadata": {},
   "source": [
    "# PVI Energy Out Statistic Query"
   ]
  },
  {
   "cell_type": "markdown",
   "metadata": {},
   "source": [
    "#### setup Django environment"
   ]
  },
  {
   "cell_type": "code",
   "execution_count": 2,
   "metadata": {
    "collapsed": false
   },
   "outputs": [],
   "source": [
    "import os, sys, django\n",
    "sys.path.append(os.path.dirname(os.getcwd()))\n",
    "os.environ['DJANGO_SETTINGS_MODULE'] = 'pvappengine.settings'\n",
    "django.setup()"
   ]
  },
  {
   "cell_type": "code",
   "execution_count": 3,
   "metadata": {
    "collapsed": true
   },
   "outputs": [],
   "source": [
    "from pvi.models import RegData"
   ]
  },
  {
   "cell_type": "markdown",
   "metadata": {},
   "source": [
    "#### PVI Energy Out Hourly Query for query_date"
   ]
  },
  {
   "cell_type": "code",
   "execution_count": 30,
   "metadata": {
    "collapsed": false
   },
   "outputs": [
    {
     "name": "stdout",
     "output_type": "stream",
     "text": [
      "query_date 2015-12-27\n",
      "SELECT `pvi_regdata`.`prob_hour`, MAX(`pvi_regdata`.`value`) AS `value__max` FROM `pvi_regdata` WHERE (`pvi_regdata`.`address` = 1072 AND `pvi_regdata`.`prob_date` = 2015-12-27) GROUP BY `pvi_regdata`.`prob_hour` ORDER BY `pvi_regdata`.`prob_hour` ASC\n"
     ]
    }
   ],
   "source": [
    "from datetime import date, timedelta\n",
    "from django.db.models import Max\n",
    "query_date = date(2015,12,27) #date.today() # + timedelta(days=-2)\n",
    "print('query_date',query_date)\n",
    "queryset = RegData.objects.filter(address=1072).filter(prob_date=query_date).values('prob_hour').annotate(Max('value')).order_by('prob_hour')\n",
    "print(queryset.query)"
   ]
  },
  {
   "cell_type": "code",
   "execution_count": 19,
   "metadata": {
    "collapsed": false
   },
   "outputs": [
    {
     "data": {
      "text/plain": [
       "[{'value__max': 0, 'prob_hour': 1}, {'value__max': 0, 'prob_hour': 1}, {'value__max': 0, 'prob_hour': 1}, {'value__max': 0, 'prob_hour': 1}, {'value__max': 0, 'prob_hour': 2}, {'value__max': 0, 'prob_hour': 2}, {'value__max': 0, 'prob_hour': 2}, {'value__max': 0, 'prob_hour': 2}, {'value__max': 0, 'prob_hour': 3}, {'value__max': 0, 'prob_hour': 3}, {'value__max': 0, 'prob_hour': 3}, {'value__max': 0, 'prob_hour': 3}, {'value__max': 0, 'prob_hour': 4}, {'value__max': 0, 'prob_hour': 4}, {'value__max': 0, 'prob_hour': 4}, {'value__max': 0, 'prob_hour': 5}, {'value__max': 0, 'prob_hour': 5}, {'value__max': 0, 'prob_hour': 5}, {'value__max': 0, 'prob_hour': 5}, {'value__max': 0, 'prob_hour': 6}, '...(remaining elements truncated)...']"
      ]
     },
     "execution_count": 19,
     "metadata": {},
     "output_type": "execute_result"
    }
   ],
   "source": [
    "queryset"
   ]
  },
  {
   "cell_type": "code",
   "execution_count": 32,
   "metadata": {
    "collapsed": false
   },
   "outputs": [
    {
     "name": "stdout",
     "output_type": "stream",
     "text": [
      "(215,22),(0,1),(0,2),(0,3),(0,4),(0,5),(0,6),(0,7),(10,8),(51,9),(96,10),(142,11),(192,12),(202,13),(213,14),(215,15),(215,16),(215,17),(215,18),(215,19),(215,20),(215,21),(215,22),\n"
     ]
    }
   ],
   "source": [
    "info = ''\n",
    "for entry in queryset:\n",
    "    info += '(%s,%s),' % (str(entry['value__max']),str(entry['prob_hour']))\n",
    "print(info)"
   ]
  },
  {
   "cell_type": "markdown",
   "metadata": {},
   "source": [
    "#### PVI Energy Out Daily Query"
   ]
  },
  {
   "cell_type": "code",
   "execution_count": 35,
   "metadata": {
    "collapsed": false
   },
   "outputs": [
    {
     "name": "stdout",
     "output_type": "stream",
     "text": [
      "SELECT `pvi_regdata`.`prob_date`, MAX(`pvi_regdata`.`value`) AS `value__max` FROM `pvi_regdata` WHERE `pvi_regdata`.`address` = 1072 GROUP BY `pvi_regdata`.`prob_date` ORDER BY `pvi_regdata`.`prob_date` ASC\n"
     ]
    }
   ],
   "source": [
    "queryset = RegData.objects.filter(address=1072).values('prob_date').annotate(Max('value')).order_by('prob_date')\n",
    "print(queryset.query)"
   ]
  },
  {
   "cell_type": "code",
   "execution_count": 38,
   "metadata": {
    "collapsed": false
   },
   "outputs": [
    {
     "name": "stdout",
     "output_type": "stream",
     "text": [
      "(2015-12-18,369098801),(2015-12-19,1328545792),(2015-12-20,875888898),(2015-12-21,439),(2015-12-22,1437),(2015-12-23,1075),(2015-12-24,1075),(2015-12-25,265),(2015-12-26,367),(2015-12-27,215),(2015-12-28,83),\n"
     ]
    }
   ],
   "source": [
    "info = ''\n",
    "for entry in queryset:\n",
    "    info += '(' + str(entry['prob_date']) + ',' + str(entry['value__max']) + '),'\n",
    "print(info)"
   ]
  }
 ],
 "metadata": {
  "kernelspec": {
   "display_name": "Python 3",
   "language": "python",
   "name": "python3"
  },
  "language_info": {
   "codemirror_mode": {
    "name": "ipython",
    "version": 3
   },
   "file_extension": ".py",
   "mimetype": "text/x-python",
   "name": "python",
   "nbconvert_exporter": "python",
   "pygments_lexer": "ipython3",
   "version": "3.4.2"
  }
 },
 "nbformat": 4,
 "nbformat_minor": 0
}
