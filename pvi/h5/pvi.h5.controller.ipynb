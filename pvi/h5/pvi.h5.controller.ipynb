{
 "cells": [
  {
   "cell_type": "markdown",
   "metadata": {},
   "source": [
    "# pvi.h5.controller module development"
   ]
  },
  {
   "cell_type": "code",
   "execution_count": 1,
   "metadata": {
    "collapsed": true
   },
   "outputs": [],
   "source": [
    "import os, sys, django"
   ]
  },
  {
   "cell_type": "code",
   "execution_count": 2,
   "metadata": {
    "collapsed": false
   },
   "outputs": [],
   "source": [
    "sys.path.append(os.path.dirname(os.path.dirname(os.getcwd())))\n",
    "os.environ['DJANGO_SETTINGS_MODULE'] = 'pvappengine.settings'\n",
    "django.setup()"
   ]
  },
  {
   "cell_type": "code",
   "execution_count": 4,
   "metadata": {
    "collapsed": false
   },
   "outputs": [],
   "source": [
    "from pvi.h5 import controller"
   ]
  },
  {
   "cell_type": "code",
   "execution_count": 8,
   "metadata": {
    "collapsed": false
   },
   "outputs": [
    {
     "data": {
      "text/plain": [
       "['H5']"
      ]
     },
     "execution_count": 8,
     "metadata": {},
     "output_type": "execute_result"
    }
   ],
   "source": [
    "from django.conf import settings\n",
    "[entry['name'] for entry in settings.PVS_CONFIG['pvs']]"
   ]
  },
  {
   "cell_type": "markdown",
   "metadata": {},
   "source": [
    "#### initial energy output data"
   ]
  },
  {
   "cell_type": "code",
   "execution_count": 14,
   "metadata": {
    "collapsed": true
   },
   "outputs": [],
   "source": [
    "from datetime import datetime, time, timedelta"
   ]
  },
  {
   "cell_type": "code",
   "execution_count": 19,
   "metadata": {
    "collapsed": false
   },
   "outputs": [
    {
     "data": {
      "text/plain": [
       "[[datetime.datetime(2016, 3, 11, 14, 0), 0],\n",
       " [datetime.datetime(2016, 3, 11, 13, 0), 0],\n",
       " [datetime.datetime(2016, 3, 11, 12, 0), 0],\n",
       " [datetime.datetime(2016, 3, 11, 11, 0), 0],\n",
       " [datetime.datetime(2016, 3, 11, 10, 0), 0],\n",
       " [datetime.datetime(2016, 3, 11, 9, 0), 0],\n",
       " [datetime.datetime(2016, 3, 11, 8, 0), 0],\n",
       " [datetime.datetime(2016, 3, 11, 7, 0), 0],\n",
       " [datetime.datetime(2016, 3, 11, 6, 0), 0],\n",
       " [datetime.datetime(2016, 3, 11, 5, 0), 0],\n",
       " [datetime.datetime(2016, 3, 11, 4, 0), 0],\n",
       " [datetime.datetime(2016, 3, 11, 3, 0), 0],\n",
       " [datetime.datetime(2016, 3, 11, 2, 0), 0],\n",
       " [datetime.datetime(2016, 3, 11, 1, 0), 0],\n",
       " [datetime.datetime(2016, 3, 11, 0, 0), 0],\n",
       " [datetime.datetime(2016, 3, 10, 23, 0), 0],\n",
       " [datetime.datetime(2016, 3, 10, 22, 0), 0],\n",
       " [datetime.datetime(2016, 3, 10, 21, 0), 0],\n",
       " [datetime.datetime(2016, 3, 10, 20, 0), 0],\n",
       " [datetime.datetime(2016, 3, 10, 19, 0), 0],\n",
       " [datetime.datetime(2016, 3, 10, 18, 0), 0],\n",
       " [datetime.datetime(2016, 3, 10, 17, 0), 0],\n",
       " [datetime.datetime(2016, 3, 10, 16, 0), 0],\n",
       " [datetime.datetime(2016, 3, 10, 15, 0), 0],\n",
       " [datetime.datetime(2016, 3, 10, 14, 0), 0],\n",
       " [datetime.datetime(2016, 3, 10, 13, 0), 0],\n",
       " [datetime.datetime(2016, 3, 10, 12, 0), 0],\n",
       " [datetime.datetime(2016, 3, 10, 11, 0), 0],\n",
       " [datetime.datetime(2016, 3, 10, 10, 0), 0],\n",
       " [datetime.datetime(2016, 3, 10, 9, 0), 0],\n",
       " [datetime.datetime(2016, 3, 10, 8, 0), 0],\n",
       " [datetime.datetime(2016, 3, 10, 7, 0), 0],\n",
       " [datetime.datetime(2016, 3, 10, 6, 0), 0],\n",
       " [datetime.datetime(2016, 3, 10, 5, 0), 0],\n",
       " [datetime.datetime(2016, 3, 10, 4, 0), 0],\n",
       " [datetime.datetime(2016, 3, 10, 3, 0), 0],\n",
       " [datetime.datetime(2016, 3, 10, 2, 0), 0],\n",
       " [datetime.datetime(2016, 3, 10, 1, 0), 0],\n",
       " [datetime.datetime(2016, 3, 10, 0, 0), 0],\n",
       " [datetime.datetime(2016, 3, 9, 23, 0), 0],\n",
       " [datetime.datetime(2016, 3, 9, 22, 0), 0],\n",
       " [datetime.datetime(2016, 3, 9, 21, 0), 0],\n",
       " [datetime.datetime(2016, 3, 9, 20, 0), 0],\n",
       " [datetime.datetime(2016, 3, 9, 19, 0), 0],\n",
       " [datetime.datetime(2016, 3, 9, 18, 0), 0],\n",
       " [datetime.datetime(2016, 3, 9, 17, 0), 0],\n",
       " [datetime.datetime(2016, 3, 9, 16, 0), 0],\n",
       " [datetime.datetime(2016, 3, 9, 15, 0), 0]]"
      ]
     },
     "execution_count": 19,
     "metadata": {},
     "output_type": "execute_result"
    }
   ],
   "source": [
    "info = []\n",
    "#print(datetime.now().hour)\n",
    "this_hour_time = datetime.combine(datetime.now().date(), time(datetime.now().hour,0,0))\n",
    "#this_hour_time.strftime('%Y%m%d-%H%M%S')\n",
    "for i in range(48):\n",
    "    info.append([this_hour_time,0])\n",
    "    this_hour_time -= timedelta(hours=1)\n",
    "info\n"
   ]
  },
  {
   "cell_type": "markdown",
   "metadata": {},
   "source": [
    "#### Django Settings Test"
   ]
  },
  {
   "cell_type": "code",
   "execution_count": null,
   "metadata": {
    "collapsed": true
   },
   "outputs": [],
   "source": [
    "from django.conf import settings"
   ]
  },
  {
   "cell_type": "code",
   "execution_count": null,
   "metadata": {
    "collapsed": false
   },
   "outputs": [],
   "source": [
    "settings.PVS_CONFIG['serial']"
   ]
  },
  {
   "cell_type": "code",
   "execution_count": null,
   "metadata": {
    "collapsed": false
   },
   "outputs": [],
   "source": [
    "import serial"
   ]
  },
  {
   "cell_type": "code",
   "execution_count": null,
   "metadata": {
    "collapsed": false
   },
   "outputs": [],
   "source": [
    "serial.PARITY_NONE"
   ]
  },
  {
   "cell_type": "markdown",
   "metadata": {},
   "source": [
    "#### start revise pvi_query_info_energy_hourly_list function test"
   ]
  },
  {
   "cell_type": "code",
   "execution_count": null,
   "metadata": {
    "collapsed": false
   },
   "outputs": [],
   "source": [
    "dataset = controller.pvi_query_info_energy_hourly_list()\n",
    "for entry in dataset:\n",
    "    print(entry)"
   ]
  },
  {
   "cell_type": "code",
   "execution_count": null,
   "metadata": {
    "collapsed": false
   },
   "outputs": [],
   "source": [
    "for entry in dataset:\n",
    "    print(entry)"
   ]
  },
  {
   "cell_type": "code",
   "execution_count": null,
   "metadata": {
    "collapsed": false
   },
   "outputs": [],
   "source": [
    "newset = [[dataset[i][0],dataset[i][1]-dataset[i+1][1]] for i in range(len(dataset)-2) if dataset[i][0].date() == dataset[i+1][0].date()]\n",
    "for entry in newset:\n",
    "    print(entry)"
   ]
  },
  {
   "cell_type": "code",
   "execution_count": null,
   "metadata": {
    "collapsed": true
   },
   "outputs": [],
   "source": []
  }
 ],
 "metadata": {
  "kernelspec": {
   "display_name": "Python 3",
   "language": "python",
   "name": "python3"
  },
  "language_info": {
   "codemirror_mode": {
    "name": "ipython",
    "version": 3
   },
   "file_extension": ".py",
   "mimetype": "text/x-python",
   "name": "python",
   "nbconvert_exporter": "python",
   "pygments_lexer": "ipython3",
   "version": "3.5.1"
  }
 },
 "nbformat": 4,
 "nbformat_minor": 0
}
